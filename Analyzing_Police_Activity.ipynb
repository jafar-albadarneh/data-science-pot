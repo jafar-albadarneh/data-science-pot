{
  "nbformat": 4,
  "nbformat_minor": 0,
  "metadata": {
    "colab": {
      "name": "Analyzing Police Activity.ipynb",
      "provenance": [],
      "authorship_tag": "ABX9TyNpuyhQftxIl9YeBXsoRT7B",
      "include_colab_link": true
    },
    "kernelspec": {
      "name": "python3",
      "display_name": "Python 3"
    }
  },
  "cells": [
    {
      "cell_type": "markdown",
      "metadata": {
        "id": "view-in-github",
        "colab_type": "text"
      },
      "source": [
        "<a href=\"https://colab.research.google.com/github/jafar-albadarneh/data-science-pot/blob/master/Analyzing_Police_Activity.ipynb\" target=\"_parent\"><img src=\"https://colab.research.google.com/assets/colab-badge.svg\" alt=\"Open In Colab\"/></a>"
      ]
    },
    {
      "cell_type": "code",
      "metadata": {
        "id": "o8fHEGTcyhbJ",
        "colab_type": "code",
        "colab": {
          "base_uri": "https://localhost:8080/",
          "height": 51
        },
        "outputId": "9f17a1f4-269b-4909-d8b6-7efa6b77b7d8"
      },
      "source": [
        "import numpy as np\n",
        "import matplotlib.pyplot as plt\n",
        "import seaborn as sns\n",
        "import pandas as pd"
      ],
      "execution_count": 1,
      "outputs": [
        {
          "output_type": "stream",
          "text": [
            "/usr/local/lib/python3.6/dist-packages/statsmodels/tools/_testing.py:19: FutureWarning: pandas.util.testing is deprecated. Use the functions in the public API at pandas.testing instead.\n",
            "  import pandas.util.testing as tm\n"
          ],
          "name": "stderr"
        }
      ]
    },
    {
      "cell_type": "markdown",
      "metadata": {
        "id": "N-ok7lOty3cb",
        "colab_type": "text"
      },
      "source": [
        "# Police Traffic Stop Activity Dataset\n",
        "The dataset contains the following columns:\n",
        "- State\n",
        "- Stop Date\n",
        "- Stop Time\n",
        "- County Name\n",
        "- Driver Gender\n",
        "- Driver Race\n",
        "- Violation Raw\n",
        "- Violation\n",
        "- Search Conducted\n",
        "- Search Type\n",
        "- Stop Outcome\n",
        "- Is Arrested\n",
        "- Stop Duration\n",
        "- Drugs Related Stop\n",
        "- District"
      ]
    },
    {
      "cell_type": "code",
      "metadata": {
        "id": "S0TFkUjaJ5Cn",
        "colab_type": "code",
        "colab": {}
      },
      "source": [
        "# Generics\n",
        "sns.set()"
      ],
      "execution_count": 0,
      "outputs": []
    },
    {
      "cell_type": "code",
      "metadata": {
        "id": "3o_SbgCl24ui",
        "colab_type": "code",
        "colab": {
          "base_uri": "https://localhost:8080/",
          "height": 34
        },
        "outputId": "b801bfdc-d9d5-4b2b-c4c5-88f1ab3c66c5"
      },
      "source": [
        "data = pd.read_csv('https://assets.datacamp.com/production/repositories/1497/datasets/62bd9feef451860db02d26553613a299721882e8/police.csv', header=0, delimiter=',')\n",
        "# get a better idea about dataset attributes\n",
        "print(data.shape)"
      ],
      "execution_count": 10,
      "outputs": [
        {
          "output_type": "stream",
          "text": [
            "(91741, 15)\n"
          ],
          "name": "stdout"
        }
      ]
    },
    {
      "cell_type": "markdown",
      "metadata": {
        "id": "CxYTWOo3BVc1",
        "colab_type": "text"
      },
      "source": [
        "## Data Cleaning\n"
      ]
    },
    {
      "cell_type": "markdown",
      "metadata": {
        "id": "3BW6ZdC95O57",
        "colab_type": "text"
      },
      "source": [
        "### Check and handle missing values"
      ]
    },
    {
      "cell_type": "markdown",
      "metadata": {
        "id": "FHYQzD9M7aBA",
        "colab_type": "text"
      },
      "source": [
        "> Drop column `county_name` as all of its values are null"
      ]
    },
    {
      "cell_type": "code",
      "metadata": {
        "id": "sTtOxmMQ4mNF",
        "colab_type": "code",
        "colab": {
          "base_uri": "https://localhost:8080/",
          "height": 0
        },
        "outputId": "49fb10e7-bd5e-471c-9c3f-e2f81b5034c8"
      },
      "source": [
        "print(data.isna().sum())\n",
        "# Drop `county_name` column since it has no-values (total missing values = # instances)\n",
        "data.drop(columns='county_name', axis='columns', inplace= True)\n",
        "print(data.shape)"
      ],
      "execution_count": 11,
      "outputs": [
        {
          "output_type": "stream",
          "text": [
            "state                     0\n",
            "stop_date                 0\n",
            "stop_time                 0\n",
            "county_name           91741\n",
            "driver_gender          5205\n",
            "driver_race            5202\n",
            "violation_raw          5202\n",
            "violation              5202\n",
            "search_conducted          0\n",
            "search_type           88434\n",
            "stop_outcome           5202\n",
            "is_arrested            5202\n",
            "stop_duration          5202\n",
            "drugs_related_stop        0\n",
            "district                  0\n",
            "dtype: int64\n",
            "(91741, 14)\n"
          ],
          "name": "stdout"
        }
      ]
    },
    {
      "cell_type": "markdown",
      "metadata": {
        "id": "ptIvJsQf71jT",
        "colab_type": "text"
      },
      "source": [
        "> Drop instances where values for `stop_date`, `stop_time`, `driver_gender` is/are not set, since these are critical data attributes for the study"
      ]
    },
    {
      "cell_type": "code",
      "metadata": {
        "id": "jFloiXBi8HTt",
        "colab_type": "code",
        "colab": {
          "base_uri": "https://localhost:8080/",
          "height": 0
        },
        "outputId": "ea9333fb-5ebf-430f-bd2e-be06e75a6547"
      },
      "source": [
        "data.dropna(subset=['stop_date', 'stop_time', 'driver_gender'], inplace=True)\n",
        "print(data.shape)"
      ],
      "execution_count": 13,
      "outputs": [
        {
          "output_type": "stream",
          "text": [
            "(86536, 14)\n"
          ],
          "name": "stdout"
        }
      ]
    },
    {
      "cell_type": "markdown",
      "metadata": {
        "id": "GeEK37Qx89rA",
        "colab_type": "text"
      },
      "source": [
        "### Fix Improper datatypes"
      ]
    },
    {
      "cell_type": "markdown",
      "metadata": {
        "id": "B-2TUND4BPRr",
        "colab_type": "text"
      },
      "source": [
        "Most of the columns has the type `object` which denotes a string or other python object other than (int, float, bool, datetime, category)"
      ]
    },
    {
      "cell_type": "code",
      "metadata": {
        "id": "EHPQfWLDBpA0",
        "colab_type": "code",
        "colab": {
          "base_uri": "https://localhost:8080/",
          "height": 272
        },
        "outputId": "60687d93-a467-436f-f8c3-d6efac81e665"
      },
      "source": [
        "print(data.dtypes)"
      ],
      "execution_count": 14,
      "outputs": [
        {
          "output_type": "stream",
          "text": [
            "state                 object\n",
            "stop_date             object\n",
            "stop_time             object\n",
            "driver_gender         object\n",
            "driver_race           object\n",
            "violation_raw         object\n",
            "violation             object\n",
            "search_conducted        bool\n",
            "search_type           object\n",
            "stop_outcome          object\n",
            "is_arrested           object\n",
            "stop_duration         object\n",
            "drugs_related_stop      bool\n",
            "district              object\n",
            "dtype: object\n"
          ],
          "name": "stdout"
        }
      ]
    },
    {
      "cell_type": "markdown",
      "metadata": {
        "id": "i_5YabkOCgrm",
        "colab_type": "text"
      },
      "source": [
        "> Fix `is_arrested` type 'object' to 'bool'"
      ]
    },
    {
      "cell_type": "code",
      "metadata": {
        "id": "0pnjbBssCn2u",
        "colab_type": "code",
        "colab": {
          "base_uri": "https://localhost:8080/",
          "height": 34
        },
        "outputId": "827aed20-80ee-4342-a1a9-843d26ec5f6a"
      },
      "source": [
        "data['is_arrested'] = data.is_arrested.astype('bool')\n",
        "print(data.is_arrested.dtype)"
      ],
      "execution_count": 16,
      "outputs": [
        {
          "output_type": "stream",
          "text": [
            "bool\n"
          ],
          "name": "stdout"
        }
      ]
    },
    {
      "cell_type": "markdown",
      "metadata": {
        "id": "h1JeytPoEbT-",
        "colab_type": "text"
      },
      "source": [
        "> `stop_date` & `stop_time` are the most important attributes for the analysis. In order to leverage datatime operations capability of pandas, we can create a `datetime` index on a combined version of the two"
      ]
    },
    {
      "cell_type": "code",
      "metadata": {
        "id": "6cMmWl5mEubi",
        "colab_type": "code",
        "colab": {
          "base_uri": "https://localhost:8080/",
          "height": 102
        },
        "outputId": "b79cc83b-2ea3-446c-ce57-65409ad0b1d7"
      },
      "source": [
        "datetime_series = data.stop_date.str.cat(data.stop_time, sep=' ')\n",
        "data['stop_datetime'] = pd.to_datetime(datetime_series)\n",
        "# set datetime attribute as index for easier querying and plotting\n",
        "data.set_index('stop_datetime', inplace=True)\n",
        "print(data.head(1))"
      ],
      "execution_count": 19,
      "outputs": [
        {
          "output_type": "stream",
          "text": [
            "                    state   stop_date  ... drugs_related_stop district\n",
            "stop_datetime                          ...                            \n",
            "2005-01-04 12:55:00    RI  2005-01-04  ...              False  Zone X4\n",
            "\n",
            "[1 rows x 14 columns]\n"
          ],
          "name": "stdout"
        }
      ]
    },
    {
      "cell_type": "markdown",
      "metadata": {
        "id": "1wnnWRhxIlqV",
        "colab_type": "text"
      },
      "source": [
        "## Data Analysis"
      ]
    },
    {
      "cell_type": "markdown",
      "metadata": {
        "id": "-Zk67Nvji1rv",
        "colab_type": "text"
      },
      "source": [
        "### Gender-based analysis"
      ]
    },
    {
      "cell_type": "markdown",
      "metadata": {
        "id": "Ic2nvOdhIpEH",
        "colab_type": "text"
      },
      "source": [
        "Analyzing `driver_gender` and its relation to data."
      ]
    },
    {
      "cell_type": "code",
      "metadata": {
        "id": "X-3WFuvwIpjF",
        "colab_type": "code",
        "colab": {
          "base_uri": "https://localhost:8080/",
          "height": 0
        },
        "outputId": "b3dac4f2-9953-4a6e-c8ec-9170e75004c9"
      },
      "source": [
        "data.driver_gender.hist()\n",
        "plt.xlabel('Driver Gender')\n",
        "plt.ylabel('# of Cases')\n",
        "plt.show()"
      ],
      "execution_count": 24,
      "outputs": [
        {
          "output_type": "stream",
          "text": [
            "M    62762\n",
            "F    23774\n",
            "Name: driver_gender, dtype: int64\n"
          ],
          "name": "stdout"
        },
        {
          "output_type": "display_data",
          "data": {
            "image/png": "[encoded data removed]",
            "text/plain": [
              "<Figure size 432x288 with 1 Axes>"
            ]
          },
          "metadata": {
            "tags": []
          }
        }
      ]
    },
    {
      "cell_type": "markdown",
      "metadata": {
        "id": "cfdsKeDTLe5A",
        "colab_type": "text"
      },
      "source": [
        "Examining Traffic Violation"
      ]
    },
    {
      "cell_type": "code",
      "metadata": {
        "id": "zmMIKfWgLx27",
        "colab_type": "code",
        "colab": {
          "base_uri": "https://localhost:8080/",
          "height": 0
        },
        "outputId": "31268c4b-a710-4991-a170-c2d18a871917"
      },
      "source": [
        "data.violation.value_counts(normalize=True)"
      ],
      "execution_count": 31,
      "outputs": [
        {
          "output_type": "execute_result",
          "data": {
            "text/plain": [
              "Speeding               0.559571\n",
              "Moving violation       0.187483\n",
              "Equipment              0.126202\n",
              "Other                  0.050950\n",
              "Registration/plates    0.042791\n",
              "Seat belt              0.033004\n",
              "Name: violation, dtype: float64"
            ]
          },
          "metadata": {
            "tags": []
          },
          "execution_count": 31
        }
      ]
    },
    {
      "cell_type": "markdown",
      "metadata": {
        "id": "e3BedNeQQgQo",
        "colab_type": "text"
      },
      "source": [
        "The numbers show that more than ***50%*** of the cases was due to **`Speeding`**, let's compare the numbers for both genders (Male, Female)"
      ]
    },
    {
      "cell_type": "code",
      "metadata": {
        "id": "RYy7y49nQ3ok",
        "colab_type": "code",
        "colab": {
          "base_uri": "https://localhost:8080/",
          "height": 0
        },
        "outputId": "a3d008d1-e40c-4915-8878-64adcf39e746"
      },
      "source": [
        "males_cases = data[data.driver_gender == 'M']\n",
        "females_cases = data[data.driver_gender == 'F']\n",
        "males_cases.violation.hist(alpha=0.5)\n",
        "females_cases.violation.hist(alpha=0.5)\n",
        "plt.xlabel('Traffic Violation Type')\n",
        "plt.ylabel('# of Cases')\n",
        "plt.xticks(rotation=25)\n",
        "plt.legend(['Male', 'Female'])\n",
        "plt.show()"
      ],
      "execution_count": 33,
      "outputs": [
        {
          "output_type": "display_data",
          "data": {
            "image/png": "[encoded data removed]",
            "text/plain": [
              "<Figure size 432x288 with 1 Axes>"
            ]
          },
          "metadata": {
            "tags": []
          }
        }
      ]
    },
    {
      "cell_type": "markdown",
      "metadata": {
        "id": "qhqewnwOR6Ep",
        "colab_type": "text"
      },
      "source": [
        "It's crystal clear that `males` tends to commit more traffic violations in comparison with `females` with the fact that `speeding` is the most common violation type among both genders."
      ]
    },
    {
      "cell_type": "markdown",
      "metadata": {
        "id": "dWQzc01jTb94",
        "colab_type": "text"
      },
      "source": [
        "**Does `driver_gender` decides whose vehicle is searched?**\n",
        "\n",
        "> Note: when performing `mean()` on a boolean series, it returns the percentage of the `True` values inside the series\n"
      ]
    },
    {
      "cell_type": "code",
      "metadata": {
        "id": "N5RTn4nyXC7b",
        "colab_type": "code",
        "colab": {
          "base_uri": "https://localhost:8080/",
          "height": 0
        },
        "outputId": "24a493fb-5d0b-4a1e-f39a-db5f64e43c0a"
      },
      "source": [
        "arrest_rates_by_gender = data.groupby('driver_gender').is_arrested.mean() * 100\n",
        "print(arrest_rates_by_gender)"
      ],
      "execution_count": 42,
      "outputs": [
        {
          "output_type": "stream",
          "text": [
            "driver_gender\n",
            "F    2.813998\n",
            "M    3.838310\n",
            "Name: is_arrested, dtype: float64\n"
          ],
          "name": "stdout"
        }
      ]
    },
    {
      "cell_type": "markdown",
      "metadata": {
        "id": "tneRf02xcc33",
        "colab_type": "text"
      },
      "source": [
        "**A Deeper look into search correlation with violation type**"
      ]
    },
    {
      "cell_type": "code",
      "metadata": {
        "id": "iPHH4SStcb5F",
        "colab_type": "code",
        "colab": {
          "base_uri": "https://localhost:8080/",
          "height": 0
        },
        "outputId": "e13ca2c7-c32c-4b7e-fc29-900d42b1ac73"
      },
      "source": [
        "print(data.groupby(['driver_gender', 'violation']).search_conducted.mean() * 100)"
      ],
      "execution_count": 44,
      "outputs": [
        {
          "output_type": "stream",
          "text": [
            "driver_gender  violation          \n",
            "F              Equipment               3.998401\n",
            "               Moving violation        3.925746\n",
            "               Other                   4.101839\n",
            "               Registration/plates     5.492424\n",
            "               Seat belt               1.730104\n",
            "               Speeding                0.830883\n",
            "M              Equipment               7.149644\n",
            "               Moving violation        6.152419\n",
            "               Other                   4.619125\n",
            "               Registration/plates    10.880242\n",
            "               Seat belt               3.511853\n",
            "               Speeding                2.788541\n",
            "Name: search_conducted, dtype: float64\n"
          ],
          "name": "stdout"
        }
      ]
    },
    {
      "cell_type": "markdown",
      "metadata": {
        "id": "DARWLSUWdKxG",
        "colab_type": "text"
      },
      "source": [
        "Numbers tell that (Expired Registration/Invalid Plates) are the most violation types for both genders which ended with a vehicle search."
      ]
    },
    {
      "cell_type": "markdown",
      "metadata": {
        "id": "g_WGuM9_i4qi",
        "colab_type": "text"
      },
      "source": [
        "### Time-based Analysis"
      ]
    },
    {
      "cell_type": "markdown",
      "metadata": {
        "id": "KQiA9Jp2jH6_",
        "colab_type": "text"
      },
      "source": [
        "**Monthly Arrest Rates**"
      ]
    },
    {
      "cell_type": "code",
      "metadata": {
        "id": "yu-vZc5VjHI3",
        "colab_type": "code",
        "colab": {
          "base_uri": "https://localhost:8080/",
          "height": 312
        },
        "outputId": "d34682ef-1eee-47de-d959-6d9239f9cf14"
      },
      "source": [
        "arrest_rates_2015 = data[data.index.year == 2015].is_arrested.resample('M').mean() * 100\n",
        "arrest_rates_2015.plot()\n",
        "plt.xlabel('Month')\n",
        "plt.ylabel('Arrest rates %')\n",
        "plt.title('Monthly Arrest Rates for 2015')\n",
        "plt.show()"
      ],
      "execution_count": 56,
      "outputs": [
        {
          "output_type": "display_data",
          "data": {
            "image/png": "[encoded data removed]",
            "text/plain": [
              "<Figure size 432x288 with 1 Axes>"
            ]
          },
          "metadata": {
            "tags": []
          }
        }
      ]
    },
    {
      "cell_type": "markdown",
      "metadata": {
        "id": "awr_3kuWu7Hu",
        "colab_type": "text"
      },
      "source": [
        "**Annual Rate of Drug-Related Stops**\n",
        "\n",
        "You'll notice that drug-related stops have rosen over the years\n",
        "\n"
      ]
    },
    {
      "cell_type": "code",
      "metadata": {
        "id": "qgXQBnRfvCRi",
        "colab_type": "code",
        "colab": {
          "base_uri": "https://localhost:8080/",
          "height": 313
        },
        "outputId": "ec868a7d-02c6-405b-f2c6-e69f36a51c0c"
      },
      "source": [
        "annual_drug_rate = data.drugs_related_stop.resample('A').mean() * 100\n",
        "annual_drug_rate.plot(color='r', marker='.')\n",
        "plt.xlabel('Year')\n",
        "plt.ylabel('Drug-Related Stops Rate %')\n",
        "plt.xticks(rotation=30)\n",
        "plt.title('Annual Rate of Drug-related Stops')\n",
        "plt.show()"
      ],
      "execution_count": 58,
      "outputs": [
        {
          "output_type": "display_data",
          "data": {
            "image/png": "[encoded data removed]",
            "text/plain": [
              "<Figure size 432x288 with 1 Axes>"
            ]
          },
          "metadata": {
            "tags": []
          }
        }
      ]
    },
    {
      "cell_type": "markdown",
      "metadata": {
        "id": "m59dBtCmv8P6",
        "colab_type": "text"
      },
      "source": [
        "**Annual Rate of Drug-Related vs Search-Conducted Stops**"
      ]
    },
    {
      "cell_type": "code",
      "metadata": {
        "id": "zCBifCcUwI4G",
        "colab_type": "code",
        "colab": {
          "base_uri": "https://localhost:8080/",
          "height": 276
        },
        "outputId": "ba4c5d2c-7d8e-4b9a-a628-fd9dadb379bb"
      },
      "source": [
        "annual_search_conducted = data.search_conducted.resample('A').mean() * 100\n",
        "annual_combined = pd.concat([annual_drug_rate, annual_search_conducted], axis='columns')\n",
        "fig, ax = annual_combined.plot(subplots=True, sharey=True)\n",
        "plt.xlabel('Year')\n",
        "plt.ylabel('Percentage %')\n",
        "plt.show()"
      ],
      "execution_count": 65,
      "outputs": [
        {
          "output_type": "display_data",
          "data": {
            "image/png": "[encoded data removed]",
            "text/plain": [
              "<Figure size 432x288 with 2 Axes>"
            ]
          },
          "metadata": {
            "tags": []
          }
        }
      ]
    }
  ]
}