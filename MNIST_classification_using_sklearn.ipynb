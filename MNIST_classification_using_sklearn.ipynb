{
  "nbformat": 4,
  "nbformat_minor": 0,
  "metadata": {
    "colab": {
      "name": "MNIST classification using sklearn.ipynb",
      "provenance": [],
      "authorship_tag": "ABX9TyMLn2ffDv/04V/5rcUd9eiC",
      "include_colab_link": true
    },
    "kernelspec": {
      "name": "python3",
      "display_name": "Python 3"
    }
  },
  "cells": [
    {
      "cell_type": "markdown",
      "metadata": {
        "id": "view-in-github",
        "colab_type": "text"
      },
      "source": [
        "<a href=\"https://colab.research.google.com/github/jafar-albadarneh/data-science-pot/blob/master/MNIST_classification_using_sklearn.ipynb\" target=\"_parent\"><img src=\"https://colab.research.google.com/assets/colab-badge.svg\" alt=\"Open In Colab\"/></a>"
      ]
    },
    {
      "cell_type": "markdown",
      "metadata": {
        "id": "dL5-p9Bnag0O",
        "colab_type": "text"
      },
      "source": [
        "# MNIST Dataset classification using KNN"
      ]
    },
    {
      "cell_type": "code",
      "metadata": {
        "id": "Rq7nv6vvQpHg",
        "colab_type": "code",
        "colab": {}
      },
      "source": [
        "import numpy as np\n",
        "import matplotlib.pyplot as plt\n",
        "from sklearn.neighbors import KNeighborsClassifier\n",
        "from sklearn.model_selection import train_test_split\n",
        "from sklearn import datasets"
      ],
      "execution_count": 0,
      "outputs": []
    },
    {
      "cell_type": "code",
      "metadata": {
        "id": "t4UsajS2XnKT",
        "colab_type": "code",
        "colab": {
          "base_uri": "https://localhost:8080/",
          "height": 102
        },
        "outputId": "014633ee-7e21-41ce-e73b-30517d973bd9"
      },
      "source": [
        "# Load Dataset (Bunch: dictionary-like/dataframe-like)\n",
        "digits = datasets.load_digits()\n",
        "print(\"Dataset (bunch) keys: {}\".format(digits.keys()))\n",
        "print(\"Image sample: {}\".format(digits.data[0]))"
      ],
      "execution_count": 12,
      "outputs": [
        {
          "output_type": "stream",
          "text": [
            "Dataset (bunch) keys: dict_keys(['data', 'target', 'target_names', 'images', 'DESCR'])\n",
            "Image sample: [ 0.  0.  5. 13.  9.  1.  0.  0.  0.  0. 13. 15. 10. 15.  5.  0.  0.  3.\n",
            " 15.  2.  0. 11.  8.  0.  0.  4. 12.  0.  0.  8.  8.  0.  0.  5.  8.  0.\n",
            "  0.  9.  8.  0.  0.  4. 11.  0.  1. 12.  7.  0.  0.  2. 14.  5. 10. 12.\n",
            "  0.  0.  0.  0.  6. 13. 10.  0.  0.  0.]\n"
          ],
          "name": "stdout"
        }
      ]
    },
    {
      "cell_type": "code",
      "metadata": {
        "id": "a1kn9B-eY5zi",
        "colab_type": "code",
        "colab": {
          "base_uri": "https://localhost:8080/",
          "height": 282
        },
        "outputId": "b5126085-8519-4690-af4f-6ce6eb2570d8"
      },
      "source": [
        "# Display sample image\n",
        "plt.imshow(digits.images[893], cmap=plt.cm.gray_r, interpolation='nearest')\n",
        "plt.show()\n",
        "print(\"Target label is: {}\".format(digits.target[893]))"
      ],
      "execution_count": 18,
      "outputs": [
        {
          "output_type": "display_data",
          "data": {
            "image/png": "[encoded data removed]",
            "text/plain": [
              "<Figure size 432x288 with 1 Axes>"
            ]
          },
          "metadata": {
            "tags": [],
            "needs_background": "light"
          }
        },
        {
          "output_type": "stream",
          "text": [
            "Target label is: 5\n"
          ],
          "name": "stdout"
        }
      ]
    },
    {
      "cell_type": "code",
      "metadata": {
        "id": "Z-h7f9b0ZZr4",
        "colab_type": "code",
        "colab": {
          "base_uri": "https://localhost:8080/",
          "height": 34
        },
        "outputId": "f45ef4ed-b809-4d7d-c04e-4fbfb72fb7bb"
      },
      "source": [
        "X_train, X_test, y_train, y_test = train_test_split(digits.data, digits.target, test_size=0.2, random_state=42, stratify=digits.target)\n",
        "knn = KNeighborsClassifier(n_neighbors=9)\n",
        "knn.fit(X_train, y_train)\n",
        "score = round(knn.score(X_test, y_test) * 100,2)\n",
        "print('Classification Accuracy :{}%'.format(score))"
      ],
      "execution_count": 22,
      "outputs": [
        {
          "output_type": "stream",
          "text": [
            "Classification Accuracy :98.06%\n"
          ],
          "name": "stdout"
        }
      ]
    }
  ]
}