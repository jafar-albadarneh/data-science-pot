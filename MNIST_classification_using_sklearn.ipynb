{
  "nbformat": 4,
  "nbformat_minor": 0,
  "metadata": {
    "colab": {
      "name": "MNIST classification using sklearn.ipynb",
      "provenance": [],
      "collapsed_sections": [],
      "authorship_tag": "ABX9TyPnA0hL/3IVfKoelRY+oTj3",
      "include_colab_link": true
    },
    "kernelspec": {
      "name": "python3",
      "display_name": "Python 3"
    }
  },
  "cells": [
    {
      "cell_type": "markdown",
      "metadata": {
        "id": "view-in-github",
        "colab_type": "text"
      },
      "source": [
        "<a href=\"https://colab.research.google.com/github/jafar-albadarneh/data-science-pot/blob/master/MNIST_classification_using_sklearn.ipynb\" target=\"_parent\"><img src=\"https://colab.research.google.com/assets/colab-badge.svg\" alt=\"Open In Colab\"/></a>"
      ]
    },
    {
      "cell_type": "markdown",
      "metadata": {
        "id": "dL5-p9Bnag0O",
        "colab_type": "text"
      },
      "source": [
        "# MNIST Dataset classification using KNN"
      ]
    },
    {
      "cell_type": "code",
      "metadata": {
        "id": "Rq7nv6vvQpHg",
        "colab_type": "code",
        "colab": {}
      },
      "source": [
        "import numpy as np\n",
        "import matplotlib.pyplot as plt\n",
        "from sklearn.neighbors import KNeighborsClassifier\n",
        "from sklearn.model_selection import train_test_split\n",
        "from sklearn import datasets"
      ],
      "execution_count": 0,
      "outputs": []
    },
    {
      "cell_type": "code",
      "metadata": {
        "id": "t4UsajS2XnKT",
        "colab_type": "code",
        "colab": {
          "base_uri": "https://localhost:8080/",
          "height": 102
        },
        "outputId": "014633ee-7e21-41ce-e73b-30517d973bd9"
      },
      "source": [
        "# Load Dataset (Bunch: dictionary-like/dataframe-like)\n",
        "digits = datasets.load_digits()\n",
        "print(\"Dataset (bunch) keys: {}\".format(digits.keys()))\n",
        "print(\"Image sample: {}\".format(digits.data[0]))"
      ],
      "execution_count": 12,
      "outputs": [
        {
          "output_type": "stream",
          "text": [
            "Dataset (bunch) keys: dict_keys(['data', 'target', 'target_names', 'images', 'DESCR'])\n",
            "Image sample: [ 0.  0.  5. 13.  9.  1.  0.  0.  0.  0. 13. 15. 10. 15.  5.  0.  0.  3.\n",
            " 15.  2.  0. 11.  8.  0.  0.  4. 12.  0.  0.  8.  8.  0.  0.  5.  8.  0.\n",
            "  0.  9.  8.  0.  0.  4. 11.  0.  1. 12.  7.  0.  0.  2. 14.  5. 10. 12.\n",
            "  0.  0.  0.  0.  6. 13. 10.  0.  0.  0.]\n"
          ],
          "name": "stdout"
        }
      ]
    },
    {
      "cell_type": "code",
      "metadata": {
        "id": "a1kn9B-eY5zi",
        "colab_type": "code",
        "colab": {
          "base_uri": "https://localhost:8080/",
          "height": 282
        },
        "outputId": "b5126085-8519-4690-af4f-6ce6eb2570d8"
      },
      "source": [
        "# Display sample image\n",
        "plt.imshow(digits.images[893], cmap=plt.cm.gray_r, interpolation='nearest')\n",
        "plt.show()\n",
        "print(\"Target label is: {}\".format(digits.target[893]))"
      ],
      "execution_count": 18,
      "outputs": [
        {
          "output_type": "display_data",
          "data": {
            "image/png": "[encoded data removed]",
            "text/plain": [
              "<Figure size 432x288 with 1 Axes>"
            ]
          },
          "metadata": {
            "tags": [],
            "needs_background": "light"
          }
        },
        {
          "output_type": "stream",
          "text": [
            "Target label is: 5\n"
          ],
          "name": "stdout"
        }
      ]
    },
    {
      "cell_type": "code",
      "metadata": {
        "id": "Z-h7f9b0ZZr4",
        "colab_type": "code",
        "colab": {
          "base_uri": "https://localhost:8080/",
          "height": 34
        },
        "outputId": "f45ef4ed-b809-4d7d-c04e-4fbfb72fb7bb"
      },
      "source": [
        "X_train, X_test, y_train, y_test = train_test_split(digits.data, digits.target, test_size=0.2, random_state=42, stratify=digits.target)\n",
        "knn = KNeighborsClassifier(n_neighbors=9)\n",
        "knn.fit(X_train, y_train)\n",
        "score = round(knn.score(X_test, y_test) * 100,2)\n",
        "print('Classification Accuracy :{}%'.format(score))"
      ],
      "execution_count": 22,
      "outputs": [
        {
          "output_type": "stream",
          "text": [
            "Classification Accuracy :98.06%\n"
          ],
          "name": "stdout"
        }
      ]
    },
    {
      "cell_type": "markdown",
      "metadata": {
        "id": "Kk4mh406bAJC",
        "colab_type": "text"
      },
      "source": [
        "## Tune classifer parameter K\n",
        "\n",
        "In order to evaluate Over-fitting and Under-fitting, multiple K values will be tested"
      ]
    },
    {
      "cell_type": "code",
      "metadata": {
        "id": "34IMD-xkbOUV",
        "colab_type": "code",
        "colab": {
          "base_uri": "https://localhost:8080/",
          "height": 295
        },
        "outputId": "25c5c28d-5835-4ffa-efa7-02822392b894"
      },
      "source": [
        "neighbors = np.arange(1,9)\n",
        "train_accuracy = np.empty(len(neighbors))\n",
        "test_accuracy = np.empty(len(neighbors))\n",
        "\n",
        "for i, k in enumerate(neighbors):\n",
        "  knn = KNeighborsClassifier(n_neighbors=k)\n",
        "  knn.fit(X_train,y_train)\n",
        "  #Compute accuracy on the training set\n",
        "  train_accuracy[i] = knn.score(X_train, y_train)\n",
        "  #Compute accuracy on the testing set\n",
        "  test_accuracy[i] = knn.score(X_test, y_test)\n",
        "\n",
        "# Study the graph\n",
        "plt.title('KNN: Varying Number of Neighbors')\n",
        "plt.plot(neighbors, test_accuracy, label = 'Testing Accuracy', marker='o', linestyle='-', color='r')\n",
        "plt.plot(neighbors, train_accuracy, label = 'Training Accuracy', marker='+', linestyle='dotted', color='b')\n",
        "plt.legend()\n",
        "plt.xlabel('Number of Neighbors')\n",
        "plt.ylabel('Accuracy')\n",
        "plt.show()"
      ],
      "execution_count": 28,
      "outputs": [
        {
          "output_type": "display_data",
          "data": {
            "image/png": "[encoded data removed]",
            "text/plain": [
              "<Figure size 432x288 with 1 Axes>"
            ]
          },
          "metadata": {
            "tags": [],
            "needs_background": "light"
          }
        }
      ]
    },
    {
      "cell_type": "markdown",
      "metadata": {
        "id": "sggv62UjeUTl",
        "colab_type": "text"
      },
      "source": [
        "**We can conclude that using eight neighbors `K=8` underfits the data. Using 1,2,3 neighbors resulted in highest accuracy rates `>98.5%` which might represent an overfitting scenario.**"
      ]
    }
  ]
}