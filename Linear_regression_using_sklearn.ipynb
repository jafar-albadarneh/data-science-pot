{
  "nbformat": 4,
  "nbformat_minor": 0,
  "metadata": {
    "colab": {
      "name": "Linear regression using sklearn.ipynb",
      "provenance": [],
      "authorship_tag": "ABX9TyOdhu7jZZAWOiWD3he00uH1",
      "include_colab_link": true
    },
    "kernelspec": {
      "name": "python3",
      "display_name": "Python 3"
    }
  },
  "cells": [
    {
      "cell_type": "markdown",
      "metadata": {
        "id": "view-in-github",
        "colab_type": "text"
      },
      "source": [
        "<a href=\"https://colab.research.google.com/github/jafar-albadarneh/data-science-pot/blob/master/Linear_regression_using_sklearn.ipynb\" target=\"_parent\"><img src=\"https://colab.research.google.com/assets/colab-badge.svg\" alt=\"Open In Colab\"/></a>"
      ]
    },
    {
      "cell_type": "markdown",
      "metadata": {
        "id": "FkRVvpJev-xF",
        "colab_type": "text"
      },
      "source": [
        "# Regression Model on Life expectancy dataset"
      ]
    },
    {
      "cell_type": "code",
      "metadata": {
        "id": "3x_BzSCJxOR8",
        "colab_type": "code",
        "colab": {}
      },
      "source": [
        "import numpy as np\n",
        "import pandas as pd\n",
        "import matplotlib.pyplot as plt\n",
        "from sklearn.linear_model import LinearRegression\n",
        "from sklearn.metrics import mean_squared_error\n",
        "from sklearn.model_selection import train_test_split\n",
        "from sklearn.model_selection import cross_val_score"
      ],
      "execution_count": 0,
      "outputs": []
    },
    {
      "cell_type": "markdown",
      "metadata": {
        "id": "LTQ_eqzLwNhs",
        "colab_type": "text"
      },
      "source": [
        "## Dataset \n",
        "\n",
        "**Life expectancy dataset**\n",
        "\n"
      ]
    },
    {
      "cell_type": "code",
      "metadata": {
        "id": "LGT9pz8Fv6f3",
        "colab_type": "code",
        "colab": {
          "base_uri": "https://localhost:8080/",
          "height": 323
        },
        "outputId": "d736e471-372a-4b94-ac00-f2dfe4d443d4"
      },
      "source": [
        "data = pd.read_csv(\"https://assets.datacamp.com/production/repositories/628/datasets/a7e65287ebb197b1267b5042955f27502ec65f31/gm_2008_region.csv\", header=0)\n",
        "print(data.info())"
      ],
      "execution_count": 5,
      "outputs": [
        {
          "output_type": "stream",
          "text": [
            "<class 'pandas.core.frame.DataFrame'>\n",
            "RangeIndex: 139 entries, 0 to 138\n",
            "Data columns (total 10 columns):\n",
            " #   Column           Non-Null Count  Dtype  \n",
            "---  ------           --------------  -----  \n",
            " 0   population       139 non-null    float64\n",
            " 1   fertility        139 non-null    float64\n",
            " 2   HIV              139 non-null    float64\n",
            " 3   CO2              139 non-null    float64\n",
            " 4   BMI_male         139 non-null    float64\n",
            " 5   GDP              139 non-null    float64\n",
            " 6   BMI_female       139 non-null    float64\n",
            " 7   life             139 non-null    float64\n",
            " 8   child_mortality  139 non-null    float64\n",
            " 9   Region           139 non-null    object \n",
            "dtypes: float64(9), object(1)\n",
            "memory usage: 11.0+ KB\n",
            "None\n"
          ],
          "name": "stdout"
        }
      ]
    },
    {
      "cell_type": "markdown",
      "metadata": {
        "id": "skf6ty5Hx9nA",
        "colab_type": "text"
      },
      "source": [
        "> Since linear models works only with numeric data, we're going to drop the feature `Region`"
      ]
    },
    {
      "cell_type": "code",
      "metadata": {
        "id": "kKbXzTQlyHMa",
        "colab_type": "code",
        "colab": {}
      },
      "source": [
        "X = data.drop(['Region','life'], axis=1).values\n",
        "y = data.life.values\n",
        "#split the data into train/test\n",
        "X_train, X_test, y_train, y_test = train_test_split(X, y, test_size=0.3, random_state=45)"
      ],
      "execution_count": 0,
      "outputs": []
    },
    {
      "cell_type": "markdown",
      "metadata": {
        "id": "rQ4EW72w0EhV",
        "colab_type": "text"
      },
      "source": [
        "### Training step"
      ]
    },
    {
      "cell_type": "code",
      "metadata": {
        "id": "Gz8D6ZMmzrL7",
        "colab_type": "code",
        "colab": {
          "base_uri": "https://localhost:8080/",
          "height": 34
        },
        "outputId": "f40797ba-0722-4ff4-da9b-8cafb790d98d"
      },
      "source": [
        "## Train the model\n",
        "reg = LinearRegression()\n",
        "reg.fit(X_train, y_train)"
      ],
      "execution_count": 10,
      "outputs": [
        {
          "output_type": "execute_result",
          "data": {
            "text/plain": [
              "LinearRegression(copy_X=True, fit_intercept=True, n_jobs=None, normalize=False)"
            ]
          },
          "metadata": {
            "tags": []
          },
          "execution_count": 10
        }
      ]
    },
    {
      "cell_type": "markdown",
      "metadata": {
        "id": "4Rc0EvTq0HDt",
        "colab_type": "text"
      },
      "source": [
        "### Testing step"
      ]
    },
    {
      "cell_type": "code",
      "metadata": {
        "id": "_GcS5D-q0JYY",
        "colab_type": "code",
        "colab": {
          "base_uri": "https://localhost:8080/",
          "height": 34
        },
        "outputId": "1ae49c73-e5c8-455a-c596-1bb24ad5ae9b"
      },
      "source": [
        "## Evaluate model on test set\n",
        "y_pred = reg.predict(X_test)\n",
        "# Compute R^2 measure\n",
        "r_2 = np.sqrt(mean_squared_error(y_test, y_pred))\n",
        "print(\"R^2 measure is: {}\".format(r_2))"
      ],
      "execution_count": 11,
      "outputs": [
        {
          "output_type": "stream",
          "text": [
            "R^2 measure is: 3.267814052593937\n"
          ],
          "name": "stdout"
        }
      ]
    },
    {
      "cell_type": "markdown",
      "metadata": {
        "id": "qnx0AnT-0oEA",
        "colab_type": "text"
      },
      "source": [
        "## Training with Cross-Validation\n",
        "We can't tell if the splitting operation affects the R^2 measure. For such case, `Cross Validation` process is advised.\n",
        "\n",
        "**Cross Validation** tends to split the data into X folds (often called `cv`). The operation goes as follows:\n",
        "\n",
        "`fold_0` is being hold as a test set to be evaluated against the trained model with the remaining folds. the resulting `r^2` measure will be stored for further action.\n",
        "The process sequentially selecting folds ex next(`fold_2`) is then repeat until the last fold.\n",
        "\n",
        "The result will be a list of `cv` number of measures which can then be processed (ex, taking the `mean`) to get a better insight about the model performance\n"
      ]
    },
    {
      "cell_type": "code",
      "metadata": {
        "id": "TXgGA0kF4Bd4",
        "colab_type": "code",
        "colab": {}
      },
      "source": [
        "def cv_reg(estimator, X, y, cv):\n",
        "  cv_scores = cross_val_score(estimator, X, y, cv=cv)\n",
        "  #print(\"R^2 scores for cv {} is : {}\".format(cv, cv_scores))\n",
        "  print(\"Average {} folds score is : {}\".format(cv, np.mean(cv_scores)))\n",
        "  print(\"----------\")\n",
        "  print(\"----------\")\n",
        "  return cv_scores"
      ],
      "execution_count": 0,
      "outputs": []
    },
    {
      "cell_type": "code",
      "metadata": {
        "id": "_OHYk8Y82Z12",
        "colab_type": "code",
        "colab": {
          "base_uri": "https://localhost:8080/",
          "height": 204
        },
        "outputId": "5fa622e4-acb1-4661-b6fd-09228bf243b3"
      },
      "source": [
        "reg = LinearRegression()\n",
        "# test cv = 3\n",
        "cv_reg(reg, X, y, 3)\n",
        "# test cv = 5\n",
        "cv_reg(reg, X, y, 5)\n",
        "# test cv = 10\n",
        "cv_reg(reg, X, y, 10)"
      ],
      "execution_count": 19,
      "outputs": [
        {
          "output_type": "stream",
          "text": [
            "Average 3 folds score is : 0.8718712782622108\n",
            "----------\n",
            "----------\n",
            "Average 5 folds score is : 0.8599627722793232\n",
            "----------\n",
            "----------\n",
            "Average 10 folds score is : 0.8436128620131201\n",
            "----------\n",
            "----------\n"
          ],
          "name": "stdout"
        },
        {
          "output_type": "execute_result",
          "data": {
            "text/plain": [
              "array([0.73564531, 0.7988102 , 0.82780762, 0.86331179, 0.74902465,\n",
              "       0.94417158, 0.83259108, 0.78157196, 0.95777479, 0.94541964])"
            ]
          },
          "metadata": {
            "tags": []
          },
          "execution_count": 19
        }
      ]
    }
  ]
}