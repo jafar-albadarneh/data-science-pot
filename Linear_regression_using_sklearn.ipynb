{
  "nbformat": 4,
  "nbformat_minor": 0,
  "metadata": {
    "colab": {
      "name": "Linear regression using sklearn.ipynb",
      "provenance": [],
      "authorship_tag": "ABX9TyNx6UiMxN7On614VAodbS6W",
      "include_colab_link": true
    },
    "kernelspec": {
      "name": "python3",
      "display_name": "Python 3"
    }
  },
  "cells": [
    {
      "cell_type": "markdown",
      "metadata": {
        "id": "view-in-github",
        "colab_type": "text"
      },
      "source": [
        "<a href=\"https://colab.research.google.com/github/jafar-albadarneh/data-science-pot/blob/master/Linear_regression_using_sklearn.ipynb\" target=\"_parent\"><img src=\"https://colab.research.google.com/assets/colab-badge.svg\" alt=\"Open In Colab\"/></a>"
      ]
    },
    {
      "cell_type": "markdown",
      "metadata": {
        "id": "FkRVvpJev-xF",
        "colab_type": "text"
      },
      "source": [
        "# Regression Model on Life expectancy dataset"
      ]
    },
    {
      "cell_type": "code",
      "metadata": {
        "id": "3x_BzSCJxOR8",
        "colab_type": "code",
        "colab": {
          "base_uri": "https://localhost:8080/",
          "height": 51
        },
        "outputId": "e4f66cc9-1be3-4ec2-a32a-6bebd7dca9c4"
      },
      "source": [
        "import numpy as np\n",
        "import pandas as pd\n",
        "import matplotlib.pyplot as plt\n",
        "from sklearn.linear_model import LinearRegression, Ridge, Lasso\n",
        "from sklearn.metrics import mean_squared_error\n",
        "from sklearn.model_selection import train_test_split\n",
        "from sklearn.model_selection import cross_val_score\n",
        "import seaborn as sns"
      ],
      "execution_count": 51,
      "outputs": [
        {
          "output_type": "stream",
          "text": [
            "/usr/local/lib/python3.6/dist-packages/statsmodels/tools/_testing.py:19: FutureWarning: pandas.util.testing is deprecated. Use the functions in the public API at pandas.testing instead.\n",
            "  import pandas.util.testing as tm\n"
          ],
          "name": "stderr"
        }
      ]
    },
    {
      "cell_type": "markdown",
      "metadata": {
        "id": "LTQ_eqzLwNhs",
        "colab_type": "text"
      },
      "source": [
        "## Dataset \n",
        "\n",
        "**Life expectancy dataset**\n",
        "\n"
      ]
    },
    {
      "cell_type": "code",
      "metadata": {
        "id": "LGT9pz8Fv6f3",
        "colab_type": "code",
        "colab": {
          "base_uri": "https://localhost:8080/",
          "height": 323
        },
        "outputId": "d7e16c3d-1d22-4d97-d3cf-0eabf465eba7"
      },
      "source": [
        "data = pd.read_csv(\"https://assets.datacamp.com/production/repositories/628/datasets/a7e65287ebb197b1267b5042955f27502ec65f31/gm_2008_region.csv\", header=0)\n",
        "print(data.info())"
      ],
      "execution_count": 40,
      "outputs": [
        {
          "output_type": "stream",
          "text": [
            "<class 'pandas.core.frame.DataFrame'>\n",
            "RangeIndex: 139 entries, 0 to 138\n",
            "Data columns (total 10 columns):\n",
            " #   Column           Non-Null Count  Dtype  \n",
            "---  ------           --------------  -----  \n",
            " 0   population       139 non-null    float64\n",
            " 1   fertility        139 non-null    float64\n",
            " 2   HIV              139 non-null    float64\n",
            " 3   CO2              139 non-null    float64\n",
            " 4   BMI_male         139 non-null    float64\n",
            " 5   GDP              139 non-null    float64\n",
            " 6   BMI_female       139 non-null    float64\n",
            " 7   life             139 non-null    float64\n",
            " 8   child_mortality  139 non-null    float64\n",
            " 9   Region           139 non-null    object \n",
            "dtypes: float64(9), object(1)\n",
            "memory usage: 11.0+ KB\n",
            "None\n"
          ],
          "name": "stdout"
        }
      ]
    },
    {
      "cell_type": "markdown",
      "metadata": {
        "id": "skf6ty5Hx9nA",
        "colab_type": "text"
      },
      "source": [
        "> Since linear models works only with numeric data, we're going to drop the feature `Region`"
      ]
    },
    {
      "cell_type": "code",
      "metadata": {
        "id": "kKbXzTQlyHMa",
        "colab_type": "code",
        "colab": {}
      },
      "source": [
        "X = data.drop(['Region','life'], axis=1).values\n",
        "y = data.life.values\n",
        "#split the data into train/test\n",
        "X_train, X_test, y_train, y_test = train_test_split(X, y, test_size=0.3, random_state=45)"
      ],
      "execution_count": 0,
      "outputs": []
    },
    {
      "cell_type": "markdown",
      "metadata": {
        "id": "rQ4EW72w0EhV",
        "colab_type": "text"
      },
      "source": [
        "### Training step"
      ]
    },
    {
      "cell_type": "code",
      "metadata": {
        "id": "Gz8D6ZMmzrL7",
        "colab_type": "code",
        "colab": {
          "base_uri": "https://localhost:8080/",
          "height": 34
        },
        "outputId": "9e86f95f-6d52-43f3-e29a-b80a9c5ce653"
      },
      "source": [
        "## Train the model\n",
        "reg = LinearRegression()\n",
        "reg.fit(X_train, y_train)"
      ],
      "execution_count": 42,
      "outputs": [
        {
          "output_type": "execute_result",
          "data": {
            "text/plain": [
              "LinearRegression(copy_X=True, fit_intercept=True, n_jobs=None, normalize=False)"
            ]
          },
          "metadata": {
            "tags": []
          },
          "execution_count": 42
        }
      ]
    },
    {
      "cell_type": "markdown",
      "metadata": {
        "id": "4Rc0EvTq0HDt",
        "colab_type": "text"
      },
      "source": [
        "### Testing step"
      ]
    },
    {
      "cell_type": "code",
      "metadata": {
        "id": "_GcS5D-q0JYY",
        "colab_type": "code",
        "colab": {
          "base_uri": "https://localhost:8080/",
          "height": 51
        },
        "outputId": "13e934cf-d81b-425b-d00b-f3fe4a73375a"
      },
      "source": [
        "## Evaluate model on test set\n",
        "y_pred = reg.predict(X_test)\n",
        "# Compute R^2 measure\n",
        "print(reg.score(X_test,y_test))\n",
        "r_2 = np.sqrt(mean_squared_error(y_test, y_pred))\n",
        "print(\"R^2 measure is: {}\".format(r_2))"
      ],
      "execution_count": 43,
      "outputs": [
        {
          "output_type": "stream",
          "text": [
            "0.8904169104225165\n",
            "R^2 measure is: 3.267814052593937\n"
          ],
          "name": "stdout"
        }
      ]
    },
    {
      "cell_type": "markdown",
      "metadata": {
        "id": "qnx0AnT-0oEA",
        "colab_type": "text"
      },
      "source": [
        "## Training with Cross-Validation\n",
        "We can't tell if the splitting operation affects the R^2 measure. For such case, `Cross Validation` process is advised.\n",
        "\n",
        "**Cross Validation** tends to split the data into X folds (often called `cv`). The operation goes as follows:\n",
        "\n",
        "`fold_0` is being hold as a test set to be evaluated against the trained model with the remaining folds. the resulting `r^2` measure will be stored for further action.\n",
        "The process sequentially selecting folds ex next(`fold_2`) is then repeat until the last fold.\n",
        "\n",
        "The result will be a list of `cv` number of measures which can then be processed (ex, taking the `mean`) to get a better insight about the model performance\n"
      ]
    },
    {
      "cell_type": "code",
      "metadata": {
        "id": "TXgGA0kF4Bd4",
        "colab_type": "code",
        "colab": {}
      },
      "source": [
        "def cv_reg(estimator, X, y, cv):\n",
        "  cv_scores = cross_val_score(estimator, X, y, cv=cv)\n",
        "  #print(\"R^2 scores for cv {} is : {}\".format(cv, cv_scores))\n",
        "  print(\"Average {} folds score is : {}\".format(cv, np.mean(cv_scores)))\n",
        "  print(\"----------\")\n",
        "  print(\"----------\")\n",
        "  return cv_scores"
      ],
      "execution_count": 0,
      "outputs": []
    },
    {
      "cell_type": "code",
      "metadata": {
        "id": "_OHYk8Y82Z12",
        "colab_type": "code",
        "colab": {
          "base_uri": "https://localhost:8080/",
          "height": 204
        },
        "outputId": "bc601b9b-43f7-4c19-a6e0-cd166aefb1b1"
      },
      "source": [
        "reg = LinearRegression()\n",
        "# test cv = 3\n",
        "cv_reg(reg, X, y, 3)\n",
        "# test cv = 5\n",
        "cv_reg(reg, X, y, 5)\n",
        "# test cv = 10\n",
        "cv_reg(reg, X, y, 10)"
      ],
      "execution_count": 45,
      "outputs": [
        {
          "output_type": "stream",
          "text": [
            "Average 3 folds score is : 0.8718712782622108\n",
            "----------\n",
            "----------\n",
            "Average 5 folds score is : 0.8599627722793232\n",
            "----------\n",
            "----------\n",
            "Average 10 folds score is : 0.8436128620131201\n",
            "----------\n",
            "----------\n"
          ],
          "name": "stdout"
        },
        {
          "output_type": "execute_result",
          "data": {
            "text/plain": [
              "array([0.73564531, 0.7988102 , 0.82780762, 0.86331179, 0.74902465,\n",
              "       0.94417158, 0.83259108, 0.78157196, 0.95777479, 0.94541964])"
            ]
          },
          "metadata": {
            "tags": []
          },
          "execution_count": 45
        }
      ]
    },
    {
      "cell_type": "markdown",
      "metadata": {
        "id": "TMwBqgP76OJT",
        "colab_type": "text"
      },
      "source": [
        "## Regualrization\n",
        "Generally , regression models `Loss functions` needs to be fine-tuned in order to avoid huge attribute coefficient, thus minimzing the probability of ending up overfitting the training data. This process is called **`Regularization`**\n",
        "\n"
      ]
    },
    {
      "cell_type": "markdown",
      "metadata": {
        "id": "1VUvKWHLAsBw",
        "colab_type": "text"
      },
      "source": [
        "### Ridge Regression \n",
        "\n",
        "One of the most common regularized regression models is called **Ridge Regression**\n",
        "\n",
        "The loss function is evaluating to the `OLS Loss function + Squared value of each coefficient multiplied by some constant alpha`\n",
        "\n",
        " In other words, during model training and while minimizing the value of the loss function, models are penalized for coefficients with **large magnitudes**\n",
        "\n",
        " Picking the right value of `alpha` depends most on experimentation, where multiple alpha values are evaluated ending with selecting the best value that resulted in the minimal loss value. This operation is reffered to `hyper parameter tuning`"
      ]
    },
    {
      "cell_type": "code",
      "metadata": {
        "id": "hwPLAeHx87si",
        "colab_type": "code",
        "colab": {
          "base_uri": "https://localhost:8080/",
          "height": 51
        },
        "outputId": "64bf48d4-cc5d-4d50-90cc-9a224af36f4a"
      },
      "source": [
        "# Applying Ridge regression\n",
        "ridge = Ridge(alpha=2.5, normalize=True)\n",
        "# we're going to refer to the split operation doen above\n",
        "ridge.fit(X_train, y_train)\n",
        "ridge_pred = ridge.predict(X_test)\n",
        "r_2 = np.sqrt(mean_squared_error(y_test, ridge_pred))\n",
        "score = ridge.score(X_test, y_test)\n",
        "print(\"score: {}\".format(score))\n",
        "print(\"R^2 measure is: {}\".format(r_2))"
      ],
      "execution_count": 46,
      "outputs": [
        {
          "output_type": "stream",
          "text": [
            "score: 0.7223990714705135\n",
            "R^2 measure is: 5.201109808089143\n"
          ],
          "name": "stdout"
        }
      ]
    },
    {
      "cell_type": "markdown",
      "metadata": {
        "id": "OL2f0bp9938j",
        "colab_type": "text"
      },
      "source": [
        "As observed the R^2 measure performed better with the use of regularized regression model"
      ]
    },
    {
      "cell_type": "markdown",
      "metadata": {
        "id": "NHRMBFXA-WSl",
        "colab_type": "text"
      },
      "source": [
        "### Lasso Regression\n",
        "the formular is similar to the `Ridge` model, except that the ***absolute*** value of the coefficients is considered"
      ]
    },
    {
      "cell_type": "code",
      "metadata": {
        "id": "-2SbNdd1-tob",
        "colab_type": "code",
        "colab": {
          "base_uri": "https://localhost:8080/",
          "height": 51
        },
        "outputId": "b459998c-9e1b-4e70-c502-9a1f3367b1c9"
      },
      "source": [
        "# Applying Lasso regression\n",
        "lasso = Lasso(alpha=2.5, normalize=True)\n",
        "# we're going to refer to the split operation doen above\n",
        "lasso.fit(X_train, y_train)\n",
        "lasso_pred = lasso.predict(X_test)\n",
        "r_2 = np.sqrt(mean_squared_error(y_test, lasso_pred))\n",
        "score = lasso.score(X_test, y_test)\n",
        "print(\"score: {}\".format(score))\n",
        "print(\"R^2 measure is: {}\".format(r_2))"
      ],
      "execution_count": 47,
      "outputs": [
        {
          "output_type": "stream",
          "text": [
            "score: -0.018658179448907575\n",
            "R^2 measure is: 9.963221924249876\n"
          ],
          "name": "stdout"
        }
      ]
    },
    {
      "cell_type": "markdown",
      "metadata": {
        "id": "QRMuxvyi_Fez",
        "colab_type": "text"
      },
      "source": [
        "> Lasso for Feature Selection\n",
        "Practically, Lasso regressor can be used as a feature selection tool, which can give you better insights about your data\n",
        "\n"
      ]
    },
    {
      "cell_type": "code",
      "metadata": {
        "id": "WHlr07ynBFy0",
        "colab_type": "code",
        "colab": {
          "base_uri": "https://localhost:8080/",
          "height": 341
        },
        "outputId": "a986b146-b26c-4390-c75b-2c11bf85c1ad"
      },
      "source": [
        "col_names = data.drop(['Region','life'], axis=1).columns\n",
        "lasso = Lasso(alpha=0.4, normalize=True)\n",
        "lasso_coeffs = lasso.fit(X, y).coef_\n",
        "\n",
        "# plot feature importance\n",
        "sns.set()\n",
        "plt.plot(range(len(col_names)), lasso_coeffs, marker='^')\n",
        "plt.xlabel(\"Features\")\n",
        "plt.xticks(range(len(col_names)), col_names, rotation=45)\n",
        "plt.ylabel('Coefficients')\n",
        "plt.show()"
      ],
      "execution_count": 58,
      "outputs": [
        {
          "output_type": "display_data",
          "data": {
            "image/png": "[encoded data removed]",
            "text/plain": [
              "<Figure size 432x288 with 1 Axes>"
            ]
          },
          "metadata": {
            "tags": []
          }
        }
      ]
    },
    {
      "cell_type": "markdown",
      "metadata": {
        "id": "J9PFqpkcDnBr",
        "colab_type": "text"
      },
      "source": [
        "As per the coefficients chart, `childs_mortality` appears to be the most important determinant feature for life expectancy "
      ]
    }
  ]
}