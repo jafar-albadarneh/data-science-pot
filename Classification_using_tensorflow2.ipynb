{
  "nbformat": 4,
  "nbformat_minor": 0,
  "metadata": {
    "colab": {
      "name": "Classification using tensorflow2.ipynb",
      "provenance": [],
      "collapsed_sections": [],
      "authorship_tag": "ABX9TyP46GkfvQo20V6uPtFIpIGG",
      "include_colab_link": true
    },
    "kernelspec": {
      "name": "python3",
      "display_name": "Python 3"
    }
  },
  "cells": [
    {
      "cell_type": "markdown",
      "metadata": {
        "id": "view-in-github",
        "colab_type": "text"
      },
      "source": [
        "<a href=\"https://colab.research.google.com/github/jafar-albadarneh/data-science-pot/blob/master/Classification_using_tensorflow2.ipynb\" target=\"_parent\"><img src=\"https://colab.research.google.com/assets/colab-badge.svg\" alt=\"Open In Colab\"/></a>"
      ]
    },
    {
      "cell_type": "markdown",
      "metadata": {
        "id": "B-UyeIAICghR",
        "colab_type": "text"
      },
      "source": [
        "# Classification : (Flowers Dataset)\n",
        "### The dataset has 3 different classes:\n",
        "- Setosa\n",
        "- Verginica\n",
        "- Versicolor\n",
        "\n",
        "### Each instance has 4 attributes:\n",
        "- speal length\n",
        "- speal width\n",
        "- petal length\n",
        "- petal width\n"
      ]
    },
    {
      "cell_type": "code",
      "metadata": {
        "id": "s4TqRaTMBqdx",
        "colab_type": "code",
        "colab": {}
      },
      "source": [
        "!pip install -q sklearn\n",
        "!pip install -q seaborn\n",
        "%tensorflow_version 2.x"
      ],
      "execution_count": 0,
      "outputs": []
    },
    {
      "cell_type": "code",
      "metadata": {
        "id": "THRo28I8B8FQ",
        "colab_type": "code",
        "colab": {
          "base_uri": "https://localhost:8080/",
          "height": 51
        },
        "outputId": "4a46c3d2-703e-4d52-a637-08e86a23f8e3"
      },
      "source": [
        "from __future__ import absolute_import, division, print_function, unicode_literals\n",
        "import numpy as np\n",
        "import pandas as pd\n",
        "import matplotlib.pyplot as plt\n",
        "import seaborn as sns\n",
        "import tensorflow as tf\n",
        "import tensorflow.compat.v2.feature_column as fc\n",
        "from IPython.display import clear_output\n"
      ],
      "execution_count": 3,
      "outputs": [
        {
          "output_type": "stream",
          "text": [
            "/usr/local/lib/python3.6/dist-packages/statsmodels/tools/_testing.py:19: FutureWarning: pandas.util.testing is deprecated. Use the functions in the public API at pandas.testing instead.\n",
            "  import pandas.util.testing as tm\n"
          ],
          "name": "stderr"
        }
      ]
    },
    {
      "cell_type": "code",
      "metadata": {
        "id": "SmuMWZsAC0id",
        "colab_type": "code",
        "outputId": "f1a004d2-71cf-49f8-aeb0-c4dbb37fac5c",
        "colab": {
          "base_uri": "https://localhost:8080/",
          "height": 289
        }
      },
      "source": [
        "COL_NAMES = ['SepalLength', 'SepalWidth', 'PetalLength', 'PetalWidth', 'Species']\n",
        "SPECIES = ['Setosa', 'Versicolor', 'Verginica']\n",
        "train_set = pd.read_csv(\"https://storage.googleapis.com/download.tensorflow.org/data/iris_training.csv\", names=COL_NAMES, header=0)\n",
        "test_set = pd.read_csv(\"https://storage.googleapis.com/download.tensorflow.org/data/iris_test.csv\", names=COL_NAMES, header=0)\n",
        "train_y = train_set.pop('Species')\n",
        "test_y = test_set.pop('Species')\n",
        "\n",
        "print(train_set.head())\n",
        "print(train_set.shape)\n",
        "print(train_set.describe())"
      ],
      "execution_count": 4,
      "outputs": [
        {
          "output_type": "stream",
          "text": [
            "   SepalLength  SepalWidth  PetalLength  PetalWidth\n",
            "0          6.4         2.8          5.6         2.2\n",
            "1          5.0         2.3          3.3         1.0\n",
            "2          4.9         2.5          4.5         1.7\n",
            "3          4.9         3.1          1.5         0.1\n",
            "4          5.7         3.8          1.7         0.3\n",
            "(120, 4)\n",
            "       SepalLength  SepalWidth  PetalLength  PetalWidth\n",
            "count   120.000000  120.000000   120.000000  120.000000\n",
            "mean      5.845000    3.065000     3.739167    1.196667\n",
            "std       0.868578    0.427156     1.822100    0.782039\n",
            "min       4.400000    2.000000     1.000000    0.100000\n",
            "25%       5.075000    2.800000     1.500000    0.300000\n",
            "50%       5.800000    3.000000     4.400000    1.300000\n",
            "75%       6.425000    3.300000     5.100000    1.800000\n",
            "max       7.900000    4.400000     6.900000    2.500000\n"
          ],
          "name": "stdout"
        }
      ]
    },
    {
      "cell_type": "markdown",
      "metadata": {
        "id": "LSTQGO7qFgM2",
        "colab_type": "text"
      },
      "source": [
        "## EDA\n",
        "## Data distribution analysis\n",
        "----\n",
        "### Analyzing Petal Length\n"
      ]
    },
    {
      "cell_type": "code",
      "metadata": {
        "id": "et-EOabEGGCu",
        "colab_type": "code",
        "colab": {}
      },
      "source": [
        "def ecdf(df):\n",
        "  \"\"\"Perpare Empirical Cumulative Ditribution Function Data\"\"\"\n",
        "  x = np.sort(df.to_numpy())\n",
        "  num_samples = len(x)\n",
        "  y = np.arange(1, num_samples+1)/ num_samples\n",
        "  return x,y\n",
        "\n",
        "# set SNS as a default plotting style\n",
        "sns.set()"
      ],
      "execution_count": 0,
      "outputs": []
    },
    {
      "cell_type": "markdown",
      "metadata": {
        "id": "nBYKzfpBIGyq",
        "colab_type": "text"
      },
      "source": [
        "> ECDF (Petal length)"
      ]
    },
    {
      "cell_type": "code",
      "metadata": {
        "id": "0YVLx_6bGyc3",
        "colab_type": "code",
        "colab": {
          "base_uri": "https://localhost:8080/",
          "height": 268
        },
        "outputId": "e221d79b-1bc0-4ce7-d5ea-1b1b8b0de73a"
      },
      "source": [
        "## Calculate ECDF for Petal length\n",
        "x_pet, y_pet = ecdf(train_set.PetalLength)\n",
        "plt.plot(x_pet, y_pet, marker='.', linestyle='none')\n",
        "plt.xlabel('Petal Length')\n",
        "plt.show()"
      ],
      "execution_count": 6,
      "outputs": [
        {
          "output_type": "display_data",
          "data": {
            "image/png": "[encoded data removed]",
            "text/plain": [
              "<Figure size 432x288 with 1 Axes>"
            ]
          },
          "metadata": {
            "tags": []
          }
        }
      ]
    },
    {
      "cell_type": "markdown",
      "metadata": {
        "id": "vH1s0kXXIMzi",
        "colab_type": "text"
      },
      "source": [
        "> Swarm Plot (Petal length)"
      ]
    },
    {
      "cell_type": "code",
      "metadata": {
        "id": "cj-ZyiayIPzM",
        "colab_type": "code",
        "colab": {
          "base_uri": "https://localhost:8080/",
          "height": 285
        },
        "outputId": "bd491d90-91ba-4ac4-8e43-a213eed8fb32"
      },
      "source": [
        "sns.swarmplot(x='PetalLength', data=train_set)\n",
        "plt.xlabel('Petal Length')\n",
        "plt.show()"
      ],
      "execution_count": 13,
      "outputs": [
        {
          "output_type": "display_data",
          "data": {
            "image/png": "[encoded data removed]",
            "text/plain": [
              "<Figure size 432x288 with 1 Axes>"
            ]
          },
          "metadata": {
            "tags": []
          }
        }
      ]
    },
    {
      "cell_type": "code",
      "metadata": {
        "id": "9M3PXaeeGUFU",
        "colab_type": "code",
        "outputId": "f9230ae5-5a14-43a6-9bcc-9b6681196822",
        "colab": {
          "base_uri": "https://localhost:8080/",
          "height": 54
        }
      },
      "source": [
        "def input_function(features, labels, is_training=True, batch_size=256):\n",
        "  # generate a tf.Dataset object\n",
        "  dataset = tf.data.Dataset.from_tensor_slices((dict(features), labels))\n",
        "  if is_training:\n",
        "    dataset = dataset.shuffle(1000).repeat()\n",
        "  return dataset.batch(batch_size)\n",
        "\n",
        "feature_columns = []\n",
        "for feature in train_set.keys():\n",
        "  feature_columns.append(tf.feature_column.numeric_column(key=feature))\n",
        "\n",
        "print(feature_columns)\n"
      ],
      "execution_count": 7,
      "outputs": [
        {
          "output_type": "stream",
          "text": [
            "[NumericColumn(key='SepalLength', shape=(1,), default_value=None, dtype=tf.float32, normalizer_fn=None), NumericColumn(key='SepalWidth', shape=(1,), default_value=None, dtype=tf.float32, normalizer_fn=None), NumericColumn(key='PetalLength', shape=(1,), default_value=None, dtype=tf.float32, normalizer_fn=None), NumericColumn(key='PetalWidth', shape=(1,), default_value=None, dtype=tf.float32, normalizer_fn=None)]\n"
          ],
          "name": "stdout"
        }
      ]
    },
    {
      "cell_type": "markdown",
      "metadata": {
        "id": "96vxHSFYISsN",
        "colab_type": "text"
      },
      "source": [
        "## Classification algorithms\n",
        "#### Two classifiers will be evaluated on the dataset. Both algorithms are available as ready to use estimators inside tensorflow\n",
        "- `DNNClassifier`\n",
        "- `LinearClassifier`"
      ]
    },
    {
      "cell_type": "markdown",
      "metadata": {
        "id": "EvjkuTtAUEzF",
        "colab_type": "text"
      },
      "source": [
        "## `DNN Classifier`"
      ]
    },
    {
      "cell_type": "code",
      "metadata": {
        "id": "rXcCRUEWG8TD",
        "colab_type": "code",
        "colab": {}
      },
      "source": [
        "# Create the DNN model\n",
        "dnn_classifier = tf.estimator.DNNClassifier(\n",
        "    feature_columns = feature_columns,\n",
        "    # add two hidden layers\n",
        "    hidden_units=[30,15],\n",
        "    # the output layer should have a node for each label (class) value\n",
        "    n_classes=3)\n",
        "\n",
        "linear_classifier = tf.estimator.LinearClassifier(feature_columns,n_classes=3)\n",
        "clear_output()"
      ],
      "execution_count": 0,
      "outputs": []
    },
    {
      "cell_type": "code",
      "metadata": {
        "id": "GeCNpLdcMAQ3",
        "colab_type": "code",
        "outputId": "fb284938-741b-47a9-d2bd-10f623c8703f",
        "colab": {
          "base_uri": "https://localhost:8080/",
          "height": 34
        }
      },
      "source": [
        "# Train the  DNN model\n",
        "dnn_classifier.train(\n",
        "  input_fn= lambda: input_function(train_set, train_y, is_training=True),\n",
        "  steps=5000)\n",
        "\n",
        "result = dnn_classifier.evaluate(input_fn= lambda: input_function(test_set, test_y, is_training=False))\n",
        "clear_output()\n",
        "print(result['accuracy'])"
      ],
      "execution_count": 9,
      "outputs": [
        {
          "output_type": "stream",
          "text": [
            "0.73333335\n"
          ],
          "name": "stdout"
        }
      ]
    },
    {
      "cell_type": "code",
      "metadata": {
        "id": "2uBlOWyhP_Et",
        "colab_type": "code",
        "outputId": "bff061b4-6c4b-48ab-f5e7-c52503407925",
        "colab": {
          "base_uri": "https://localhost:8080/",
          "height": 136
        }
      },
      "source": [
        "#Model inference\n",
        "results = list(dnn_classifier.predict(input_fn= lambda: input_function(test_set, test_y, is_training=False)))\n",
        "clear_output()\n",
        "# predection evaluation\n",
        "print(test_set.loc[0])\n",
        "print(SPECIES[test_y.loc[0]])\n",
        "print(results[0]['probabilities'])"
      ],
      "execution_count": 10,
      "outputs": [
        {
          "output_type": "stream",
          "text": [
            "SepalLength    5.9\n",
            "SepalWidth     3.0\n",
            "PetalLength    4.2\n",
            "PetalWidth     1.5\n",
            "Name: 0, dtype: float64\n",
            "Versicolor\n",
            "[0.10741946 0.43467525 0.45790523]\n"
          ],
          "name": "stdout"
        }
      ]
    },
    {
      "cell_type": "markdown",
      "metadata": {
        "id": "6hnSSpdYUKKB",
        "colab_type": "text"
      },
      "source": [
        "# `Linear Classifier`\n",
        "\n"
      ]
    },
    {
      "cell_type": "code",
      "metadata": {
        "id": "UGKoL7F0STR2",
        "colab_type": "code",
        "outputId": "1c64412b-1837-408d-dece-75c2b29c7440",
        "colab": {
          "base_uri": "https://localhost:8080/",
          "height": 34
        }
      },
      "source": [
        "# Train Linear Classification model\n",
        "linear_classifier.train(input_fn= lambda: input_function(train_set, train_y, is_training=True), steps=5000)\n",
        "linear_result = linear_classifier.evaluate(input_fn= lambda: input_function(test_set, test_y, is_training=False))\n",
        "clear_output()\n",
        "print(linear_result['accuracy'])"
      ],
      "execution_count": 11,
      "outputs": [
        {
          "output_type": "stream",
          "text": [
            "0.96666664\n"
          ],
          "name": "stdout"
        }
      ]
    },
    {
      "cell_type": "code",
      "metadata": {
        "id": "1bJCrNgxU_JT",
        "colab_type": "code",
        "outputId": "3549b3d6-8473-49ff-bce7-de6be97cbef8",
        "colab": {
          "base_uri": "https://localhost:8080/",
          "height": 136
        }
      },
      "source": [
        "#Model Inference\n",
        "linear_results = list(linear_classifier.predict(input_fn= lambda: input_function(test_set, test_y, is_training=False)))\n",
        "clear_output()\n",
        "# predection evaluation\n",
        "print(test_set.loc[0])\n",
        "print(SPECIES[test_y.loc[0]])\n",
        "print(results[0]['probabilities'])"
      ],
      "execution_count": 12,
      "outputs": [
        {
          "output_type": "stream",
          "text": [
            "SepalLength    5.9\n",
            "SepalWidth     3.0\n",
            "PetalLength    4.2\n",
            "PetalWidth     1.5\n",
            "Name: 0, dtype: float64\n",
            "Versicolor\n",
            "[0.10741946 0.43467525 0.45790523]\n"
          ],
          "name": "stdout"
        }
      ]
    }
  ]
}