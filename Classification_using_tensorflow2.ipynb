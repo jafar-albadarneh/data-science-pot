{
  "nbformat": 4,
  "nbformat_minor": 0,
  "metadata": {
    "colab": {
      "name": "Classification using tensorflow2.ipynb",
      "provenance": [],
      "collapsed_sections": [],
      "authorship_tag": "ABX9TyMBX1vOvHJ1tVAK7CBRiFja",
      "include_colab_link": true
    },
    "kernelspec": {
      "name": "python3",
      "display_name": "Python 3"
    }
  },
  "cells": [
    {
      "cell_type": "markdown",
      "metadata": {
        "id": "view-in-github",
        "colab_type": "text"
      },
      "source": [
        "<a href=\"https://colab.research.google.com/github/jafar-albadarneh/tensorflow2-models/blob/master/Classification_using_tensorflow2.ipynb\" target=\"_parent\"><img src=\"https://colab.research.google.com/assets/colab-badge.svg\" alt=\"Open In Colab\"/></a>"
      ]
    },
    {
      "cell_type": "markdown",
      "metadata": {
        "id": "B-UyeIAICghR",
        "colab_type": "text"
      },
      "source": [
        "# Classification : (Flowers Dataset)\n",
        "### The dataset has 3 differenct classes:\n",
        "- Setosa\n",
        "- Verginica\n",
        "- Versicolor\n",
        "\n",
        "### Each instance has 4 attributes:\n",
        "- speal length\n",
        "- speal width\n",
        "- petal length\n",
        "- petal width\n",
        "\n",
        "```\n",
        "# This is formatted as code\n",
        "```\n",
        "\n"
      ]
    },
    {
      "cell_type": "code",
      "metadata": {
        "id": "s4TqRaTMBqdx",
        "colab_type": "code",
        "colab": {}
      },
      "source": [
        "!pip install -q sklearn\n",
        "%tensorflow_version 2.x"
      ],
      "execution_count": 0,
      "outputs": []
    },
    {
      "cell_type": "code",
      "metadata": {
        "id": "THRo28I8B8FQ",
        "colab_type": "code",
        "colab": {}
      },
      "source": [
        "from __future__ import absolute_import, division, print_function, unicode_literals\n",
        "import numpy as np\n",
        "import pandas as pd\n",
        "import matplotlib.pyplot as plt\n",
        "import tensorflow as tf\n",
        "import tensorflow.compat.v2.feature_column as fc\n",
        "from IPython.display import clear_output\n"
      ],
      "execution_count": 0,
      "outputs": []
    },
    {
      "cell_type": "code",
      "metadata": {
        "id": "SmuMWZsAC0id",
        "colab_type": "code",
        "colab": {
          "base_uri": "https://localhost:8080/",
          "height": 289
        },
        "outputId": "ab45ce01-2b65-4cc3-afc0-f388cbcba677"
      },
      "source": [
        "COL_NAMES = ['SepalLength', 'SepalWidth', 'PetalLength', 'PetalWidth', 'Species']\n",
        "SPECIES = ['Setosa', 'Versicolor', 'Verginica']\n",
        "train_set = pd.read_csv(\"https://storage.googleapis.com/download.tensorflow.org/data/iris_training.csv\", names=COL_NAMES, header=0)\n",
        "test_set = pd.read_csv(\"https://storage.googleapis.com/download.tensorflow.org/data/iris_test.csv\", names=COL_NAMES, header=0)\n",
        "train_y = train_set.pop('Species')\n",
        "test_y = test_set.pop('Species')\n",
        "\n",
        "print(train_set.head())\n",
        "print(train_set.shape)\n",
        "print(train_set.describe())"
      ],
      "execution_count": 60,
      "outputs": [
        {
          "output_type": "stream",
          "text": [
            "   SepalLength  SepalWidth  PetalLength  PetalWidth\n",
            "0          6.4         2.8          5.6         2.2\n",
            "1          5.0         2.3          3.3         1.0\n",
            "2          4.9         2.5          4.5         1.7\n",
            "3          4.9         3.1          1.5         0.1\n",
            "4          5.7         3.8          1.7         0.3\n",
            "(120, 4)\n",
            "       SepalLength  SepalWidth  PetalLength  PetalWidth\n",
            "count   120.000000  120.000000   120.000000  120.000000\n",
            "mean      5.845000    3.065000     3.739167    1.196667\n",
            "std       0.868578    0.427156     1.822100    0.782039\n",
            "min       4.400000    2.000000     1.000000    0.100000\n",
            "25%       5.075000    2.800000     1.500000    0.300000\n",
            "50%       5.800000    3.000000     4.400000    1.300000\n",
            "75%       6.425000    3.300000     5.100000    1.800000\n",
            "max       7.900000    4.400000     6.900000    2.500000\n"
          ],
          "name": "stdout"
        }
      ]
    },
    {
      "cell_type": "code",
      "metadata": {
        "id": "9M3PXaeeGUFU",
        "colab_type": "code",
        "colab": {
          "base_uri": "https://localhost:8080/",
          "height": 54
        },
        "outputId": "e3bf4a66-b0ea-4c50-8c8e-e46be09d167a"
      },
      "source": [
        "def input_function(features, labels, is_training=True, batch_size=256):\n",
        "  # generate a tf.Dataset object\n",
        "  dataset = tf.data.Dataset.from_tensor_slices((dict(features), labels))\n",
        "  if is_training:\n",
        "    dataset = dataset.shuffle(1000).repeat()\n",
        "  return dataset.batch(batch_size)\n",
        "\n",
        "feature_columns = []\n",
        "for feature in train_set.keys():\n",
        "  feature_columns.append(tf.feature_column.numeric_column(key=feature))\n",
        "\n",
        "print(feature_columns)\n"
      ],
      "execution_count": 36,
      "outputs": [
        {
          "output_type": "stream",
          "text": [
            "[NumericColumn(key='SepalLength', shape=(1,), default_value=None, dtype=tf.float32, normalizer_fn=None), NumericColumn(key='SepalWidth', shape=(1,), default_value=None, dtype=tf.float32, normalizer_fn=None), NumericColumn(key='PetalLength', shape=(1,), default_value=None, dtype=tf.float32, normalizer_fn=None), NumericColumn(key='PetalWidth', shape=(1,), default_value=None, dtype=tf.float32, normalizer_fn=None)]\n"
          ],
          "name": "stdout"
        }
      ]
    },
    {
      "cell_type": "markdown",
      "metadata": {
        "id": "96vxHSFYISsN",
        "colab_type": "text"
      },
      "source": [
        "## Classification algorithms\n",
        "#### Two classifiers will be evaluated on the dataset. Both algorithms are available as ready to use estimators inside tensorflow\n",
        "- `DNNClassifier`\n",
        "- `LinearClassifier`"
      ]
    },
    {
      "cell_type": "markdown",
      "metadata": {
        "id": "EvjkuTtAUEzF",
        "colab_type": "text"
      },
      "source": [
        "## `DNNClassifier`"
      ]
    },
    {
      "cell_type": "code",
      "metadata": {
        "id": "rXcCRUEWG8TD",
        "colab_type": "code",
        "colab": {}
      },
      "source": [
        "# Create the DNN model\n",
        "dnn_classifier = tf.estimator.DNNClassifier(\n",
        "    feature_columns = feature_columns,\n",
        "    # add two hidden layers\n",
        "    hidden_units=[30,15],\n",
        "    # the output layer should have a node for each label (class) value\n",
        "    n_classes=3)\n",
        "\n",
        "linear_classifier = tf.estimator.LinearClassifier(feature_columns,n_classes=3)\n",
        "clear_output()"
      ],
      "execution_count": 0,
      "outputs": []
    },
    {
      "cell_type": "code",
      "metadata": {
        "id": "GeCNpLdcMAQ3",
        "colab_type": "code",
        "colab": {
          "base_uri": "https://localhost:8080/",
          "height": 34
        },
        "outputId": "7ad4dffb-95e8-4462-d46c-2eba00dc958c"
      },
      "source": [
        "# Train the  DNN model\n",
        "dnn_classifier.train(\n",
        "  input_fn= lambda: input_function(train_set, train_y, is_training=True),\n",
        "  steps=5000)\n",
        "\n",
        "result = dnn_classifier.evaluate(input_fn= lambda: input_function(test_set, test_y, is_training=False))\n",
        "clear_output()\n",
        "print(result['accuracy'])"
      ],
      "execution_count": 42,
      "outputs": [
        {
          "output_type": "stream",
          "text": [
            "0.96666664\n"
          ],
          "name": "stdout"
        }
      ]
    },
    {
      "cell_type": "code",
      "metadata": {
        "id": "2uBlOWyhP_Et",
        "colab_type": "code",
        "colab": {
          "base_uri": "https://localhost:8080/",
          "height": 136
        },
        "outputId": "8224c9c6-17a4-48fc-8d8e-a1f837cdb4be"
      },
      "source": [
        "#Model inference\n",
        "results = list(dnn_classifier.predict(input_fn= lambda: input_function(test_set, test_y, is_training=False)))\n",
        "clear_output()\n",
        "# predection evaluation\n",
        "print(test_set.loc[0])\n",
        "print(SPECIES[test_y.loc[0]])\n",
        "print(results[0]['probabilities'])"
      ],
      "execution_count": 47,
      "outputs": [
        {
          "output_type": "stream",
          "text": [
            "SepalLength    5.9\n",
            "SepalWidth     3.0\n",
            "PetalLength    4.2\n",
            "PetalWidth     1.5\n",
            "Name: 0, dtype: float64\n",
            "Versicolor\n",
            "[0.01156251 0.906858   0.08157956]\n"
          ],
          "name": "stdout"
        }
      ]
    },
    {
      "cell_type": "markdown",
      "metadata": {
        "id": "6hnSSpdYUKKB",
        "colab_type": "text"
      },
      "source": [
        "# `LinearClassifier`"
      ]
    },
    {
      "cell_type": "code",
      "metadata": {
        "id": "UGKoL7F0STR2",
        "colab_type": "code",
        "colab": {
          "base_uri": "https://localhost:8080/",
          "height": 34
        },
        "outputId": "66a09006-e0bd-49c2-915d-061c6e797d64"
      },
      "source": [
        "# Train Linear Classification model\n",
        "linear_classifier.train(input_fn= lambda: input_function(train_set, train_y, is_training=True), steps=5000)\n",
        "linear_result = linear_classifier.evaluate(input_fn= lambda: input_function(test_set, test_y, is_training=False))\n",
        "clear_output()\n",
        "print(linear_result['accuracy'])"
      ],
      "execution_count": 57,
      "outputs": [
        {
          "output_type": "stream",
          "text": [
            "0.96666664\n"
          ],
          "name": "stdout"
        }
      ]
    },
    {
      "cell_type": "code",
      "metadata": {
        "id": "1bJCrNgxU_JT",
        "colab_type": "code",
        "colab": {
          "base_uri": "https://localhost:8080/",
          "height": 136
        },
        "outputId": "dd0d8ec8-a8fb-49c4-8dc7-6f4132c80345"
      },
      "source": [
        "#Model Inference\n",
        "linear_results = list(linear_classifier.predict(input_fn= lambda: input_function(test_set, test_y, is_training=False)))\n",
        "clear_output()\n",
        "# predection evaluation\n",
        "print(test_set.loc[0])\n",
        "print(SPECIES[test_y.loc[0]])\n",
        "print(results[0]['probabilities'])"
      ],
      "execution_count": 59,
      "outputs": [
        {
          "output_type": "stream",
          "text": [
            "SepalLength    5.9\n",
            "SepalWidth     3.0\n",
            "PetalLength    4.2\n",
            "PetalWidth     1.5\n",
            "Name: 0, dtype: float64\n",
            "Versicolor\n",
            "[0.01156251 0.906858   0.08157956]\n"
          ],
          "name": "stdout"
        }
      ]
    }
  ]
}