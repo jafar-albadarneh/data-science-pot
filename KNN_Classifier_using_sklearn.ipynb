{
  "nbformat": 4,
  "nbformat_minor": 0,
  "metadata": {
    "colab": {
      "name": "KNN Classifier using sklearn.ipynb",
      "provenance": [],
      "authorship_tag": "ABX9TyPTuKNumG/PdMuC1tc+Q68O",
      "include_colab_link": true
    },
    "kernelspec": {
      "name": "python3",
      "display_name": "Python 3"
    }
  },
  "cells": [
    {
      "cell_type": "markdown",
      "metadata": {
        "id": "view-in-github",
        "colab_type": "text"
      },
      "source": [
        "<a href=\"https://colab.research.google.com/github/jafar-albadarneh/data-science-pot/blob/master/KNN_Classifier_using_sklearn.ipynb\" target=\"_parent\"><img src=\"https://colab.research.google.com/assets/colab-badge.svg\" alt=\"Open In Colab\"/></a>"
      ]
    },
    {
      "cell_type": "markdown",
      "metadata": {
        "id": "zEjZ7x30nU9D",
        "colab_type": "text"
      },
      "source": [
        "# K-Nearest Neighbors Classifier using Scikit learn"
      ]
    },
    {
      "cell_type": "code",
      "metadata": {
        "id": "FpGlIl5Ym9RY",
        "colab_type": "code",
        "colab": {}
      },
      "source": [
        "from sklearn.neighbors import KNeighborsClassifier\n",
        "import numpy as np\n",
        "import pandas as pd\n",
        "import matplotlib.pyplot as plt\n",
        "import seaborn as sns\n",
        "from sklearn.model_selection import train_test_split, GridSearchCV\n",
        "from sklearn.metrics import confusion_matrix, accuracy_score, recall_score, average_precision_score, f1_score, classification_report, roc_curve, roc_auc_score"
      ],
      "execution_count": 0,
      "outputs": []
    },
    {
      "cell_type": "markdown",
      "metadata": {
        "id": "3Jym7bIFniQk",
        "colab_type": "text"
      },
      "source": [
        "## Load Dataset (EDA, pre-processing, and prepperation)"
      ]
    },
    {
      "cell_type": "markdown",
      "metadata": {
        "id": "t81yiODInwCz",
        "colab_type": "text"
      },
      "source": [
        "### Load dataset\n",
        "\n",
        "[**`Congressional Voting Records Data Set`**](https://archive.ics.uci.edu/ml/datasets/Congressional+Voting+Records)\n",
        "\n",
        "This data set includes votes for each of the U.S. House of Representatives Congressmen on the 16 key votes identified by the CQA. The CQA lists nine different types of votes: voted for, paired for, and announced for (these three simplified to yea), voted against, paired against, and announced against (these three simplified to nay), voted present, voted present to avoid conflict of interest, and did not vote or otherwise make a position known (these three simplified to an unknown disposition).\n",
        "\n",
        "\n"
      ]
    },
    {
      "cell_type": "code",
      "metadata": {
        "id": "Qzlc-VQYnzEs",
        "colab_type": "code",
        "outputId": "dceaf3c1-f188-4397-fca3-078dc5e3b9c1",
        "colab": {
          "base_uri": "https://localhost:8080/",
          "height": 34
        }
      },
      "source": [
        "columns = ['party', 'infants', 'water', 'budget', 'physician', 'salvador','religious', 'satellite', 'aid', 'missile', 'immigration', 'synfuels','education', 'superfund', 'crime', 'duty_free_exports', 'eaa_rsa']\n",
        "df = pd.read_csv(\"https://assets.datacamp.com/production/repositories/628/datasets/35a8c54b79d559145bbeb5582de7a6169c703136/house-votes-84.csv\", names=columns)\n",
        "print(df.shape)"
      ],
      "execution_count": 47,
      "outputs": [
        {
          "output_type": "stream",
          "text": [
            "(435, 17)\n"
          ],
          "name": "stdout"
        }
      ]
    },
    {
      "cell_type": "markdown",
      "metadata": {
        "id": "_WlzOGih0q0a",
        "colab_type": "text"
      },
      "source": [
        "## Data Pre-processing\n"
      ]
    },
    {
      "cell_type": "code",
      "metadata": {
        "id": "vPy6IuFv0wtm",
        "colab_type": "code",
        "outputId": "97d42f3c-2d52-47a3-e2bc-7d1a814e8759",
        "colab": {
          "base_uri": "https://localhost:8080/",
          "height": 153
        }
      },
      "source": [
        "print(df.head())"
      ],
      "execution_count": 48,
      "outputs": [
        {
          "output_type": "stream",
          "text": [
            "        party infants water budget  ... superfund crime duty_free_exports eaa_rsa\n",
            "0  republican       n     y      n  ...         y     y                 n       y\n",
            "1  republican       n     y      n  ...         y     y                 n       ?\n",
            "2    democrat       ?     y      y  ...         y     y                 n       n\n",
            "3    democrat       n     y      y  ...         y     n                 n       y\n",
            "4    democrat       y     y      y  ...         y     y                 y       y\n",
            "\n",
            "[5 rows x 17 columns]\n"
          ],
          "name": "stdout"
        }
      ]
    },
    {
      "cell_type": "markdown",
      "metadata": {
        "id": "mFTwz__t02Hf",
        "colab_type": "text"
      },
      "source": [
        "As observed, value types are categorical `['y','n']`. there are some features having `?` as value indicating `null`."
      ]
    },
    {
      "cell_type": "code",
      "metadata": {
        "id": "LpK0Vrd80-jA",
        "colab_type": "code",
        "outputId": "6e4de160-db6b-46b3-e940-5caaad7abe0e",
        "colab": {
          "base_uri": "https://localhost:8080/",
          "height": 323
        }
      },
      "source": [
        "# convert string values ('y','n') to int\n",
        "df.replace('y', 1, inplace=True)\n",
        "df.replace('n', 0, inplace=True)\n",
        "df.party.replace({\"democrat\": 0, \"republican\":1}, inplace=True)\n",
        "# convert ? to NaN\n",
        "df.replace('?', np.nan, inplace=True)\n",
        "print(df.isna().sum())"
      ],
      "execution_count": 49,
      "outputs": [
        {
          "output_type": "stream",
          "text": [
            "party                  0\n",
            "infants               12\n",
            "water                 48\n",
            "budget                11\n",
            "physician             11\n",
            "salvador              15\n",
            "religious             11\n",
            "satellite             14\n",
            "aid                   15\n",
            "missile               22\n",
            "immigration            7\n",
            "synfuels              21\n",
            "education             31\n",
            "superfund             25\n",
            "crime                 17\n",
            "duty_free_exports     28\n",
            "eaa_rsa              104\n",
            "dtype: int64\n"
          ],
          "name": "stdout"
        }
      ]
    },
    {
      "cell_type": "code",
      "metadata": {
        "id": "ZM6MuZAluwI0",
        "colab_type": "code",
        "outputId": "b0f708f5-5907-46df-f246-249aa2ff63ce",
        "colab": {
          "base_uri": "https://localhost:8080/",
          "height": 323
        }
      },
      "source": [
        "# fill nan values using forward-fill/backward-fill\n",
        "df.fillna(method='bfill', inplace=True)\n",
        "df.fillna(method='ffill', inplace=True)\n",
        "print(df.isna().sum())"
      ],
      "execution_count": 50,
      "outputs": [
        {
          "output_type": "stream",
          "text": [
            "party                0\n",
            "infants              0\n",
            "water                0\n",
            "budget               0\n",
            "physician            0\n",
            "salvador             0\n",
            "religious            0\n",
            "satellite            0\n",
            "aid                  0\n",
            "missile              0\n",
            "immigration          0\n",
            "synfuels             0\n",
            "education            0\n",
            "superfund            0\n",
            "crime                0\n",
            "duty_free_exports    0\n",
            "eaa_rsa              0\n",
            "dtype: int64\n"
          ],
          "name": "stdout"
        }
      ]
    },
    {
      "cell_type": "markdown",
      "metadata": {
        "id": "5207Nu0OvHYS",
        "colab_type": "text"
      },
      "source": [
        "Now, Dataset has been cleaned and prepared for KNN ***`(KNN only accepts numeric values)`***"
      ]
    },
    {
      "cell_type": "code",
      "metadata": {
        "id": "rdOhUG_4_tBM",
        "colab_type": "code",
        "outputId": "781e55e0-656d-4d4c-f1e2-b3dbd1d0a493",
        "colab": {
          "base_uri": "https://localhost:8080/",
          "height": 285
        }
      },
      "source": [
        "sns.set()\n",
        "sns.countplot(x='satellite', hue='party', data=df)\n",
        "plt.xlabel('Satellite Issue supporters')\n",
        "plt.ylabel('Count')\n",
        "plt.show()"
      ],
      "execution_count": 51,
      "outputs": [
        {
          "output_type": "display_data",
          "data": {
            "image/png": "[encoded data removed]",
            "text/plain": [
              "<Figure size 432x288 with 1 Axes>"
            ]
          },
          "metadata": {
            "tags": []
          }
        }
      ]
    },
    {
      "cell_type": "markdown",
      "metadata": {
        "id": "fxO4lDeC_Zk_",
        "colab_type": "text"
      },
      "source": [
        "## Prepare Training Set\n",
        "- Split and extract Train/Test sets "
      ]
    },
    {
      "cell_type": "code",
      "metadata": {
        "id": "zIL9_sU6x0uH",
        "colab_type": "code",
        "outputId": "aec8233f-4530-4ed7-9869-c45548fa425d",
        "colab": {
          "base_uri": "https://localhost:8080/",
          "height": 51
        }
      },
      "source": [
        "# prepare training data\n",
        "y = df['party'].values\n",
        "X = df.drop('party', axis=1).values\n",
        "X_train, X_test, y_train, y_test = train_test_split(X,y, random_state=21, test_size=0.3, stratify=y)\n",
        "print(X_train.shape, y_train.shape)\n",
        "print(X_test.shape, y_test.shape)"
      ],
      "execution_count": 52,
      "outputs": [
        {
          "output_type": "stream",
          "text": [
            "(304, 16) (304,)\n",
            "(131, 16) (131,)\n"
          ],
          "name": "stdout"
        }
      ]
    },
    {
      "cell_type": "markdown",
      "metadata": {
        "id": "S5wfh8se_f5S",
        "colab_type": "text"
      },
      "source": [
        "## Classification"
      ]
    },
    {
      "cell_type": "code",
      "metadata": {
        "id": "6d5_gMKVv0gD",
        "colab_type": "code",
        "colab": {}
      },
      "source": [
        "# Initialize KNN classifier\n",
        "knn = KNeighborsClassifier(n_neighbors=3)"
      ],
      "execution_count": 0,
      "outputs": []
    },
    {
      "cell_type": "markdown",
      "metadata": {
        "id": "3_B8XaSLFmm9",
        "colab_type": "text"
      },
      "source": [
        "### Training the model"
      ]
    },
    {
      "cell_type": "code",
      "metadata": {
        "id": "MC3Pb6qd5fa2",
        "colab_type": "code",
        "outputId": "dedc36ed-9ba6-4d1d-9282-fffb0d8faf40",
        "colab": {
          "base_uri": "https://localhost:8080/",
          "height": 68
        }
      },
      "source": [
        "# Train classifier\n",
        "knn.fit(X_train,y_train)"
      ],
      "execution_count": 54,
      "outputs": [
        {
          "output_type": "execute_result",
          "data": {
            "text/plain": [
              "KNeighborsClassifier(algorithm='auto', leaf_size=30, metric='minkowski',\n",
              "                     metric_params=None, n_jobs=None, n_neighbors=3, p=2,\n",
              "                     weights='uniform')"
            ]
          },
          "metadata": {
            "tags": []
          },
          "execution_count": 54
        }
      ]
    },
    {
      "cell_type": "markdown",
      "metadata": {
        "id": "0ZwdpwipFtLJ",
        "colab_type": "text"
      },
      "source": [
        "### Testing the model"
      ]
    },
    {
      "cell_type": "code",
      "metadata": {
        "id": "bnXKihTP95qg",
        "colab_type": "code",
        "outputId": "cb45d853-bc0e-403c-a48b-35ca0fb6cba3",
        "colab": {
          "base_uri": "https://localhost:8080/",
          "height": 85
        }
      },
      "source": [
        "# Evaluate model on test set\n",
        "y_pred = knn.predict(X_test)\n",
        "print(\"Test predictions: {}\".format(y_pred))"
      ],
      "execution_count": 55,
      "outputs": [
        {
          "output_type": "stream",
          "text": [
            "Test predictions: [0 1 1 0 0 0 1 1 0 1 0 1 0 0 1 0 0 1 0 0 1 0 0 1 0 1 0 1 1 1 1 1 0 1 0 1 0\n",
            " 0 0 0 0 1 0 0 1 1 0 1 1 1 0 1 0 0 0 0 0 0 1 0 0 0 0 0 0 1 0 1 1 0 1 0 0 0\n",
            " 0 1 1 0 0 0 0 0 0 1 0 1 0 0 1 1 1 1 0 0 1 0 0 0 1 0 1 1 1 1 1 1 1 1 1 0 0\n",
            " 0 0 0 1 0 0 1 1 0 0 0 0 1 0 0 1 0 0 0 0]\n"
          ],
          "name": "stdout"
        }
      ]
    },
    {
      "cell_type": "markdown",
      "metadata": {
        "id": "QommGiWAGZ4-",
        "colab_type": "text"
      },
      "source": [
        "### Evaluating model Accuracy\n"
      ]
    },
    {
      "cell_type": "code",
      "metadata": {
        "id": "S2HMO-8GGce-",
        "colab_type": "code",
        "outputId": "bca5ff3a-f99b-4ddb-8146-aac0a7481ac2",
        "colab": {
          "base_uri": "https://localhost:8080/",
          "height": 221
        }
      },
      "source": [
        "accuracy = knn.score(X_test, y_test)\n",
        "conf_matrix = confusion_matrix(y_test, y_pred)\n",
        "print(\"Confusion matrix : {}\".format(conf_matrix))\n",
        "print(\"Model Accuracy : {}%\".format(round(accuracy*100,2)))\n",
        "accuracy = accuracy_score(y_test, y_pred)\n",
        "print(classification_report(y_test, y_pred))"
      ],
      "execution_count": 56,
      "outputs": [
        {
          "output_type": "stream",
          "text": [
            "Confusion matrix : [[75  5]\n",
            " [ 2 49]]\n",
            "Model Accuracy : 94.66%\n",
            "              precision    recall  f1-score   support\n",
            "\n",
            "           0       0.97      0.94      0.96        80\n",
            "           1       0.91      0.96      0.93        51\n",
            "\n",
            "    accuracy                           0.95       131\n",
            "   macro avg       0.94      0.95      0.94       131\n",
            "weighted avg       0.95      0.95      0.95       131\n",
            "\n"
          ],
          "name": "stdout"
        }
      ]
    },
    {
      "cell_type": "code",
      "metadata": {
        "id": "fAXS8VJT9gUK",
        "colab_type": "code",
        "colab": {
          "base_uri": "https://localhost:8080/",
          "height": 301
        },
        "outputId": "d0ba7330-5498-42e0-b3f9-6a36e811a641"
      },
      "source": [
        "#ROC Curve\n",
        "y_pred_prob = knn.predict_proba(X_test)[:,1]\n",
        "fpr, tpr, threshold = roc_curve(y_test, y_pred_prob)\n",
        "# Plot ROC curve\n",
        "plt.plot([0, 1], [0, 1], 'k--')\n",
        "plt.plot(fpr,tpr, 'r')\n",
        "plt.xlabel('False Positive Rate')\n",
        "plt.ylabel('True Positive Rate')\n",
        "plt.title('ROC Curve')\n",
        "plt.show()"
      ],
      "execution_count": 57,
      "outputs": [
        {
          "output_type": "display_data",
          "data": {
            "image/png": "[encoded data removed]",
            "text/plain": [
              "<Figure size 432x288 with 1 Axes>"
            ]
          },
          "metadata": {
            "tags": []
          }
        }
      ]
    },
    {
      "cell_type": "code",
      "metadata": {
        "id": "aR2PvKqIAKIk",
        "colab_type": "code",
        "colab": {
          "base_uri": "https://localhost:8080/",
          "height": 34
        },
        "outputId": "93d1c52f-319e-4645-ec16-a3218b94dae9"
      },
      "source": [
        "# Area Under Curve (AUC): The larger the area, the better is the model\n",
        "area = roc_auc_score(y_test, y_pred_prob)\n",
        "print('Area under curve is: {}'.format(area))\n"
      ],
      "execution_count": 58,
      "outputs": [
        {
          "output_type": "stream",
          "text": [
            "Area under curve is: 0.9732843137254903\n"
          ],
          "name": "stdout"
        }
      ]
    },
    {
      "cell_type": "markdown",
      "metadata": {
        "id": "mBt1Wc9YEyR8",
        "colab_type": "text"
      },
      "source": [
        "## Hyperparameter tuning\n",
        "Generally, most machine learning algorithms accept parameters for guding the training process. Taking for instance (KNN) classifier, which requires `k` value corresponding to the number of neighbors to include when calculating distance.\n",
        "\n",
        "Determining the best K value (that result in the minmal loss) is not trivial, and mostly depends on evaluating multiple `k` values and chose the best perfoming `k`"
      ]
    },
    {
      "cell_type": "code",
      "metadata": {
        "id": "-M7-pVn7Gdzp",
        "colab_type": "code",
        "colab": {
          "base_uri": "https://localhost:8080/",
          "height": 51
        },
        "outputId": "6eb36f6c-f7e0-40ae-bf35-f7b950f59f85"
      },
      "source": [
        "# Hyperparams tuning using GridSearchCV\n",
        "k_options = {'n_neighbors' : np.array([2,3,4,5,6,7,8])}\n",
        "knn_cv = GridSearchCV(knn, k_options, cv=5)\n",
        "knn_cv.fit(X_train,y_train)\n",
        "print(\"Tuned KNN Parameters: {}\".format(knn_cv.best_params_)) \n",
        "print(\"Best score is {}\".format(knn_cv.best_score_))"
      ],
      "execution_count": 60,
      "outputs": [
        {
          "output_type": "stream",
          "text": [
            "Tuned KNN Parameters: {'n_neighbors': 6}\n",
            "Best score is 0.9342622950819672\n"
          ],
          "name": "stdout"
        }
      ]
    }
  ]
}