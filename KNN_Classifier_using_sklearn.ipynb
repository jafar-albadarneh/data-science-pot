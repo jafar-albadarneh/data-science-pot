{
  "nbformat": 4,
  "nbformat_minor": 0,
  "metadata": {
    "colab": {
      "name": "KNN Classifier using sklearn.ipynb",
      "provenance": [],
      "authorship_tag": "ABX9TyPFrDvjoHxVOS0pKhz4UFlA",
      "include_colab_link": true
    },
    "kernelspec": {
      "name": "python3",
      "display_name": "Python 3"
    }
  },
  "cells": [
    {
      "cell_type": "markdown",
      "metadata": {
        "id": "view-in-github",
        "colab_type": "text"
      },
      "source": [
        "<a href=\"https://colab.research.google.com/github/jafar-albadarneh/data-science-pot/blob/master/KNN_Classifier_using_sklearn.ipynb\" target=\"_parent\"><img src=\"https://colab.research.google.com/assets/colab-badge.svg\" alt=\"Open In Colab\"/></a>"
      ]
    },
    {
      "cell_type": "markdown",
      "metadata": {
        "id": "zEjZ7x30nU9D",
        "colab_type": "text"
      },
      "source": [
        "# K-Nearest Neighbors Classifier using Scikit learn"
      ]
    },
    {
      "cell_type": "code",
      "metadata": {
        "id": "FpGlIl5Ym9RY",
        "colab_type": "code",
        "colab": {}
      },
      "source": [
        "from sklearn.neighbors import KNeighborsClassifier\n",
        "import numpy as np\n",
        "import pandas as pd\n",
        "import matplotlib.pyplot as plt\n",
        "import seaborn as sns\n",
        "from sklearn.model_selection import train_test_split"
      ],
      "execution_count": 0,
      "outputs": []
    },
    {
      "cell_type": "markdown",
      "metadata": {
        "id": "3Jym7bIFniQk",
        "colab_type": "text"
      },
      "source": [
        "## Load Dataset (EDA, pre-processing, and prepperation)"
      ]
    },
    {
      "cell_type": "markdown",
      "metadata": {
        "id": "t81yiODInwCz",
        "colab_type": "text"
      },
      "source": [
        "### Load dataset\n",
        "\n",
        "[**`Congressional Voting Records Data Set`**](https://archive.ics.uci.edu/ml/datasets/Congressional+Voting+Records)\n",
        "\n",
        "This data set includes votes for each of the U.S. House of Representatives Congressmen on the 16 key votes identified by the CQA. The CQA lists nine different types of votes: voted for, paired for, and announced for (these three simplified to yea), voted against, paired against, and announced against (these three simplified to nay), voted present, voted present to avoid conflict of interest, and did not vote or otherwise make a position known (these three simplified to an unknown disposition).\n",
        "\n",
        "\n"
      ]
    },
    {
      "cell_type": "code",
      "metadata": {
        "id": "Qzlc-VQYnzEs",
        "colab_type": "code",
        "colab": {
          "base_uri": "https://localhost:8080/",
          "height": 34
        },
        "outputId": "daf4e4d4-6e37-4e0d-cb2e-2c6da1fb8d96"
      },
      "source": [
        "columns = ['party', 'infants', 'water', 'budget', 'physician', 'salvador','religious', 'satellite', 'aid', 'missile', 'immigration', 'synfuels','education', 'superfund', 'crime', 'duty_free_exports', 'eaa_rsa']\n",
        "df = pd.read_csv(\"https://assets.datacamp.com/production/repositories/628/datasets/35a8c54b79d559145bbeb5582de7a6169c703136/house-votes-84.csv\", names=columns)\n",
        "print(df.shape)"
      ],
      "execution_count": 113,
      "outputs": [
        {
          "output_type": "stream",
          "text": [
            "(435, 17)\n"
          ],
          "name": "stdout"
        }
      ]
    },
    {
      "cell_type": "markdown",
      "metadata": {
        "id": "_WlzOGih0q0a",
        "colab_type": "text"
      },
      "source": [
        "## Data Pre-processing\n"
      ]
    },
    {
      "cell_type": "code",
      "metadata": {
        "id": "vPy6IuFv0wtm",
        "colab_type": "code",
        "colab": {
          "base_uri": "https://localhost:8080/",
          "height": 153
        },
        "outputId": "39b31971-0ae4-47bd-c6f2-c92c416f65c9"
      },
      "source": [
        "print(df.head())"
      ],
      "execution_count": 114,
      "outputs": [
        {
          "output_type": "stream",
          "text": [
            "        party infants water budget  ... superfund crime duty_free_exports eaa_rsa\n",
            "0  republican       n     y      n  ...         y     y                 n       y\n",
            "1  republican       n     y      n  ...         y     y                 n       ?\n",
            "2    democrat       ?     y      y  ...         y     y                 n       n\n",
            "3    democrat       n     y      y  ...         y     n                 n       y\n",
            "4    democrat       y     y      y  ...         y     y                 y       y\n",
            "\n",
            "[5 rows x 17 columns]\n"
          ],
          "name": "stdout"
        }
      ]
    },
    {
      "cell_type": "markdown",
      "metadata": {
        "id": "mFTwz__t02Hf",
        "colab_type": "text"
      },
      "source": [
        "As observed, value types are categorical `['y','n']`. there are some features having `?` as value indicating `null`."
      ]
    },
    {
      "cell_type": "code",
      "metadata": {
        "id": "LpK0Vrd80-jA",
        "colab_type": "code",
        "colab": {
          "base_uri": "https://localhost:8080/",
          "height": 323
        },
        "outputId": "ef738651-e581-4eb3-dd74-c71d3c8aef57"
      },
      "source": [
        "# convert string values ('y','n') to int\n",
        "df.replace('y', 1, inplace=True)\n",
        "df.replace('n', 0, inplace=True)\n",
        "#df.party.replace({\"democrat\": 0, \"republican\":1}, inplace=True)\n",
        "# convert ? to NaN\n",
        "df.replace('?', np.nan, inplace=True)\n",
        "print(df.isna().sum())"
      ],
      "execution_count": 115,
      "outputs": [
        {
          "output_type": "stream",
          "text": [
            "party                  0\n",
            "infants               12\n",
            "water                 48\n",
            "budget                11\n",
            "physician             11\n",
            "salvador              15\n",
            "religious             11\n",
            "satellite             14\n",
            "aid                   15\n",
            "missile               22\n",
            "immigration            7\n",
            "synfuels              21\n",
            "education             31\n",
            "superfund             25\n",
            "crime                 17\n",
            "duty_free_exports     28\n",
            "eaa_rsa              104\n",
            "dtype: int64\n"
          ],
          "name": "stdout"
        }
      ]
    },
    {
      "cell_type": "code",
      "metadata": {
        "id": "ZM6MuZAluwI0",
        "colab_type": "code",
        "colab": {
          "base_uri": "https://localhost:8080/",
          "height": 323
        },
        "outputId": "f949579f-1ff3-46b0-b2e3-d88dbeb21ec4"
      },
      "source": [
        "# fill nan values using forward-fill/backward-fill\n",
        "df.fillna(method='bfill', inplace=True)\n",
        "df.fillna(method='ffill', inplace=True)\n",
        "print(df.isna().sum())"
      ],
      "execution_count": 116,
      "outputs": [
        {
          "output_type": "stream",
          "text": [
            "party                0\n",
            "infants              0\n",
            "water                0\n",
            "budget               0\n",
            "physician            0\n",
            "salvador             0\n",
            "religious            0\n",
            "satellite            0\n",
            "aid                  0\n",
            "missile              0\n",
            "immigration          0\n",
            "synfuels             0\n",
            "education            0\n",
            "superfund            0\n",
            "crime                0\n",
            "duty_free_exports    0\n",
            "eaa_rsa              0\n",
            "dtype: int64\n"
          ],
          "name": "stdout"
        }
      ]
    },
    {
      "cell_type": "markdown",
      "metadata": {
        "id": "5207Nu0OvHYS",
        "colab_type": "text"
      },
      "source": [
        "Now, Dataset has been cleaned and prepared for KNN ***`(KNN only accepts numeric values)`***"
      ]
    },
    {
      "cell_type": "code",
      "metadata": {
        "id": "rdOhUG_4_tBM",
        "colab_type": "code",
        "colab": {
          "base_uri": "https://localhost:8080/",
          "height": 285
        },
        "outputId": "d4e7a567-c118-4665-9f0a-ddd7736a1815"
      },
      "source": [
        "sns.set()\n",
        "sns.countplot(x='satellite', hue='party', data=df)\n",
        "plt.xlabel('Satellite Issue supporters')\n",
        "plt.ylabel('Count')\n",
        "plt.show()"
      ],
      "execution_count": 117,
      "outputs": [
        {
          "output_type": "display_data",
          "data": {
            "image/png": "[encoded data removed]",
            "text/plain": [
              "<Figure size 432x288 with 1 Axes>"
            ]
          },
          "metadata": {
            "tags": []
          }
        }
      ]
    },
    {
      "cell_type": "markdown",
      "metadata": {
        "id": "fxO4lDeC_Zk_",
        "colab_type": "text"
      },
      "source": [
        "## Prepare Training Set\n",
        "- Split and extract Train/Test sets "
      ]
    },
    {
      "cell_type": "code",
      "metadata": {
        "id": "zIL9_sU6x0uH",
        "colab_type": "code",
        "colab": {
          "base_uri": "https://localhost:8080/",
          "height": 51
        },
        "outputId": "7b4d05ce-ffda-4f55-8a65-1d4b15f045ad"
      },
      "source": [
        "# prepare training data\n",
        "y = df['party'].values\n",
        "X = df.drop('party', axis=1).values\n",
        "X_train, X_test, y_train, y_test = train_test_split(X,y, random_state=21, test_size=0.3, stratify=y)\n",
        "print(X_train.shape, y_train.shape)\n",
        "print(X_test.shape, y_test.shape)"
      ],
      "execution_count": 118,
      "outputs": [
        {
          "output_type": "stream",
          "text": [
            "(304, 16) (304,)\n",
            "(131, 16) (131,)\n"
          ],
          "name": "stdout"
        }
      ]
    },
    {
      "cell_type": "markdown",
      "metadata": {
        "id": "S5wfh8se_f5S",
        "colab_type": "text"
      },
      "source": [
        "## Classification"
      ]
    },
    {
      "cell_type": "code",
      "metadata": {
        "id": "6d5_gMKVv0gD",
        "colab_type": "code",
        "colab": {}
      },
      "source": [
        "# Initialize KNN classifier\n",
        "knn = KNeighborsClassifier(n_neighbors=4)"
      ],
      "execution_count": 0,
      "outputs": []
    },
    {
      "cell_type": "markdown",
      "metadata": {
        "id": "3_B8XaSLFmm9",
        "colab_type": "text"
      },
      "source": [
        "### Training the model"
      ]
    },
    {
      "cell_type": "code",
      "metadata": {
        "id": "MC3Pb6qd5fa2",
        "colab_type": "code",
        "colab": {
          "base_uri": "https://localhost:8080/",
          "height": 68
        },
        "outputId": "520b6394-38d2-49ff-c4f4-b9bdcca62a98"
      },
      "source": [
        "# Train classifier\n",
        "knn.fit(X_train,y_train)"
      ],
      "execution_count": 120,
      "outputs": [
        {
          "output_type": "execute_result",
          "data": {
            "text/plain": [
              "KNeighborsClassifier(algorithm='auto', leaf_size=30, metric='minkowski',\n",
              "                     metric_params=None, n_jobs=None, n_neighbors=4, p=2,\n",
              "                     weights='uniform')"
            ]
          },
          "metadata": {
            "tags": []
          },
          "execution_count": 120
        }
      ]
    },
    {
      "cell_type": "markdown",
      "metadata": {
        "id": "0ZwdpwipFtLJ",
        "colab_type": "text"
      },
      "source": [
        "### Testing the model"
      ]
    },
    {
      "cell_type": "code",
      "metadata": {
        "id": "bnXKihTP95qg",
        "colab_type": "code",
        "colab": {
          "base_uri": "https://localhost:8080/",
          "height": 391
        },
        "outputId": "ebdd6e86-feb3-49db-b854-2397a5d9ea39"
      },
      "source": [
        "# Evaluate model on test set\n",
        "y_pred = knn.predict(X_test)\n",
        "print(\"Test predictions: {}\".format(y_pred))"
      ],
      "execution_count": 121,
      "outputs": [
        {
          "output_type": "stream",
          "text": [
            "Test predictions: ['democrat' 'republican' 'republican' 'democrat' 'democrat' 'democrat'\n",
            " 'republican' 'republican' 'democrat' 'republican' 'democrat' 'republican'\n",
            " 'democrat' 'democrat' 'republican' 'democrat' 'democrat' 'republican'\n",
            " 'democrat' 'democrat' 'republican' 'democrat' 'democrat' 'republican'\n",
            " 'democrat' 'republican' 'democrat' 'republican' 'republican' 'republican'\n",
            " 'republican' 'republican' 'democrat' 'republican' 'democrat' 'republican'\n",
            " 'democrat' 'democrat' 'democrat' 'democrat' 'democrat' 'republican'\n",
            " 'democrat' 'democrat' 'republican' 'republican' 'democrat' 'republican'\n",
            " 'republican' 'republican' 'democrat' 'republican' 'democrat' 'democrat'\n",
            " 'democrat' 'democrat' 'democrat' 'democrat' 'republican' 'democrat'\n",
            " 'democrat' 'democrat' 'democrat' 'democrat' 'democrat' 'republican'\n",
            " 'democrat' 'republican' 'republican' 'democrat' 'republican' 'democrat'\n",
            " 'democrat' 'democrat' 'democrat' 'republican' 'republican' 'democrat'\n",
            " 'democrat' 'democrat' 'democrat' 'democrat' 'democrat' 'republican'\n",
            " 'democrat' 'republican' 'democrat' 'democrat' 'republican' 'republican'\n",
            " 'republican' 'republican' 'democrat' 'democrat' 'republican' 'democrat'\n",
            " 'democrat' 'democrat' 'republican' 'democrat' 'republican' 'republican'\n",
            " 'republican' 'republican' 'republican' 'republican' 'republican'\n",
            " 'republican' 'republican' 'democrat' 'democrat' 'democrat' 'democrat'\n",
            " 'democrat' 'republican' 'democrat' 'democrat' 'republican' 'republican'\n",
            " 'democrat' 'democrat' 'democrat' 'democrat' 'republican' 'democrat'\n",
            " 'democrat' 'republican' 'democrat' 'democrat' 'democrat' 'democrat']\n"
          ],
          "name": "stdout"
        }
      ]
    },
    {
      "cell_type": "markdown",
      "metadata": {
        "id": "QommGiWAGZ4-",
        "colab_type": "text"
      },
      "source": [
        "### Evaluating model Accuracy\n"
      ]
    },
    {
      "cell_type": "code",
      "metadata": {
        "id": "S2HMO-8GGce-",
        "colab_type": "code",
        "colab": {
          "base_uri": "https://localhost:8080/",
          "height": 34
        },
        "outputId": "23df604a-6031-4d35-83f5-9a74b719ed97"
      },
      "source": [
        "accuracy = knn.score(X_test, y_test)\n",
        "print(\"Model accuracy is : {}\".format(accuracy))"
      ],
      "execution_count": 122,
      "outputs": [
        {
          "output_type": "stream",
          "text": [
            "Model accuracy is : 0.9465648854961832\n"
          ],
          "name": "stdout"
        }
      ]
    }
  ]
}