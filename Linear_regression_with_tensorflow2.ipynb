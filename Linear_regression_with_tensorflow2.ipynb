{
  "nbformat": 4,
  "nbformat_minor": 0,
  "metadata": {
    "colab": {
      "name": "Linear regression with tensorflow2.ipynb",
      "provenance": [],
      "authorship_tag": "ABX9TyN6sY19R7PwEihEShChxHkH",
      "include_colab_link": true
    },
    "kernelspec": {
      "name": "python3",
      "display_name": "Python 3"
    }
  },
  "cells": [
    {
      "cell_type": "markdown",
      "metadata": {
        "id": "view-in-github",
        "colab_type": "text"
      },
      "source": [
        "<a href=\"https://colab.research.google.com/github/jafar-albadarneh/tensorflow2-models/blob/master/Linear_regression_with_tensorflow2.ipynb\" target=\"_parent\"><img src=\"https://colab.research.google.com/assets/colab-badge.svg\" alt=\"Open In Colab\"/></a>"
      ]
    },
    {
      "cell_type": "code",
      "metadata": {
        "id": "MvaAWXUwFrqK",
        "colab_type": "code",
        "colab": {}
      },
      "source": [
        "!pip install -q sklearn \n",
        "%tensorflow_version 2.x"
      ],
      "execution_count": 0,
      "outputs": []
    },
    {
      "cell_type": "code",
      "metadata": {
        "id": "5E5XNN6qGBXd",
        "colab_type": "code",
        "colab": {}
      },
      "source": [
        "#Imports\n",
        "from __future__ import absolute_import, division, print_function, unicode_literals\n",
        "import numpy as np\n",
        "import pandas as pd\n",
        "import matplotlib.pyplot as plt\n",
        "from IPython.display import clear_output\n",
        "from six.moves import urllib #Utility for python v2/v3 compatibilty\n",
        "\n",
        "import tensorflow.compat.v2.feature_column as fc\n",
        "import tensorflow as tf"
      ],
      "execution_count": 0,
      "outputs": []
    },
    {
      "cell_type": "code",
      "metadata": {
        "id": "mIsYcKNYPz68",
        "colab_type": "code",
        "colab": {
          "base_uri": "https://localhost:8080/",
          "height": 187
        },
        "outputId": "31193f9e-5c81-4473-b146-9b7e30a449a2"
      },
      "source": [
        "#Load dataset\n",
        "def load_dataset():\n",
        "  pd.set_option('max_columns', None) #display all columns when invoking df.head()\n",
        "  pd.reset_option('max_columns') # reset df col display settings\n",
        "  df_train = pd.read_csv('https://storage.googleapis.com/tf-datasets/titanic/train.csv') # training data\n",
        "  df_eval = pd.read_csv('https://storage.googleapis.com/tf-datasets/titanic/eval.csv') # testing data\n",
        "  y_train = df_train.pop('survived')\n",
        "  y_eval = df_eval.pop('survived')\n",
        "  return (df_train, df_eval, y_train, y_eval)\n",
        "df_train, df_eval, y_train, y_eval = load_dataset()\n",
        "print(df_train.loc[0])"
      ],
      "execution_count": 85,
      "outputs": [
        {
          "output_type": "stream",
          "text": [
            "sex                          male\n",
            "age                            22\n",
            "n_siblings_spouses              1\n",
            "parch                           0\n",
            "fare                         7.25\n",
            "class                       Third\n",
            "deck                      unknown\n",
            "embark_town           Southampton\n",
            "alone                           n\n",
            "Name: 0, dtype: object\n"
          ],
          "name": "stdout"
        }
      ]
    },
    {
      "cell_type": "code",
      "metadata": {
        "id": "ZlOPxWZoj2-S",
        "colab_type": "code",
        "colab": {
          "base_uri": "https://localhost:8080/",
          "height": 282
        },
        "outputId": "6ffcb5c6-21c5-469f-8f9c-fd0687ea3428"
      },
      "source": [
        "#Dataset statistics\n",
        "df_train.age.hist(bins=25)"
      ],
      "execution_count": 62,
      "outputs": [
        {
          "output_type": "execute_result",
          "data": {
            "text/plain": [
              "<matplotlib.axes._subplots.AxesSubplot at 0x7f450d195828>"
            ]
          },
          "metadata": {
            "tags": []
          },
          "execution_count": 62
        },
        {
          "output_type": "display_data",
          "data": {
            "image/png": "[encoded data removed]",
            "text/plain": [
              "<Figure size 432x288 with 1 Axes>"
            ]
          },
          "metadata": {
            "tags": [],
            "needs_background": "light"
          }
        }
      ]
    },
    {
      "cell_type": "code",
      "metadata": {
        "id": "be521c7NnBKx",
        "colab_type": "code",
        "colab": {
          "base_uri": "https://localhost:8080/",
          "height": 282
        },
        "outputId": "cdcc484c-9c3d-42eb-efd6-ee12a3c0b58b"
      },
      "source": [
        "df_train.sex.value_counts().plot(kind='barh')"
      ],
      "execution_count": 63,
      "outputs": [
        {
          "output_type": "execute_result",
          "data": {
            "text/plain": [
              "<matplotlib.axes._subplots.AxesSubplot at 0x7f45108ae9e8>"
            ]
          },
          "metadata": {
            "tags": []
          },
          "execution_count": 63
        },
        {
          "output_type": "display_data",
          "data": {
            "image/png": "[encoded data removed]",
            "text/plain": [
              "<Figure size 432x288 with 1 Axes>"
            ]
          },
          "metadata": {
            "tags": [],
            "needs_background": "light"
          }
        }
      ]
    },
    {
      "cell_type": "code",
      "metadata": {
        "id": "HBVIvNucnO-s",
        "colab_type": "code",
        "colab": {
          "base_uri": "https://localhost:8080/",
          "height": 282
        },
        "outputId": "ecd20d03-e3df-4fc3-c622-dd11bef4d206"
      },
      "source": [
        "df_train[\"class\"].value_counts().plot(kind='barh')"
      ],
      "execution_count": 64,
      "outputs": [
        {
          "output_type": "execute_result",
          "data": {
            "text/plain": [
              "<matplotlib.axes._subplots.AxesSubplot at 0x7f4510819630>"
            ]
          },
          "metadata": {
            "tags": []
          },
          "execution_count": 64
        },
        {
          "output_type": "display_data",
          "data": {
            "image/png": "[encoded data removed]",
            "text/plain": [
              "<Figure size 432x288 with 1 Axes>"
            ]
          },
          "metadata": {
            "tags": [],
            "needs_background": "light"
          }
        }
      ]
    },
    {
      "cell_type": "code",
      "metadata": {
        "id": "bRhxATfUnzXP",
        "colab_type": "code",
        "colab": {
          "base_uri": "https://localhost:8080/",
          "height": 296
        },
        "outputId": "9d02efff-c9ae-4cfd-8c00-862ecaf55525"
      },
      "source": [
        "all = pd.concat([df_train, y_train], axis=1)\n",
        "all.groupby('class').survived.mean().plot(kind='barh').set_xlabel('survival percentage')\n",
        "all.groupby('sex').survived.mean().plot(kind='barh').set_xlabel('survival percentage')"
      ],
      "execution_count": 65,
      "outputs": [
        {
          "output_type": "execute_result",
          "data": {
            "text/plain": [
              "Text(0.5, 0, 'survival percentage')"
            ]
          },
          "metadata": {
            "tags": []
          },
          "execution_count": 65
        },
        {
          "output_type": "display_data",
          "data": {
            "image/png": "[encoded data removed]",
            "text/plain": [
              "<Figure size 432x288 with 1 Axes>"
            ]
          },
          "metadata": {
            "tags": [],
            "needs_background": "light"
          }
        }
      ]
    },
    {
      "cell_type": "code",
      "metadata": {
        "id": "zsdXpWVIqCFg",
        "colab_type": "code",
        "colab": {}
      },
      "source": [
        "# Data pre-processing\n",
        "\"\"\"\n",
        "We need to extract feature columns from thed data set \n",
        "\"\"\"\n",
        "CATEGORICAL_COLUMNS = ['sex', 'n_siblings_spouses', 'parch', 'class', 'deck', 'embark_town', 'alone']\n",
        "NUMERIC_COLUMNS = ['age', 'fare']\n",
        "def get_feature_columns():\n",
        "  feature_columns = []\n",
        "  for feature_name in CATEGORICAL_COLUMNS:\n",
        "    vocabulary = df_train[feature_name].unique() # get list of unique values from the dataset\n",
        "    feature_columns.append(tf.feature_column.categorical_column_with_vocabulary_list(feature_name, vocabulary_list=vocabulary))\n",
        "\n",
        "  for feature_name in NUMERIC_COLUMNS:\n",
        "    feature_columns.append(tf.feature_column.numeric_column(feature_name, dtype=tf.float32))\n",
        "    return feature_columns\n",
        "\n",
        "feature_columns = get_feature_columns()"
      ],
      "execution_count": 0,
      "outputs": []
    },
    {
      "cell_type": "code",
      "metadata": {
        "id": "axQ8pgR7tH_F",
        "colab_type": "code",
        "colab": {}
      },
      "source": [
        "# Training the model\n",
        "def prepare_input_function(data_df, label_df, num_epochs=10, shuffle=True, batch_size=32):\n",
        "  def input_function(): # inner function that will be returned\n",
        "    dataset = tf.data.Dataset.from_tensor_slices((dict(data_df), label_df)) # create a tf.Dataset object with data and labels\n",
        "    if shuffle:\n",
        "      dataset = dataset.shuffle(1000)\n",
        "    # apply batch-sizing\n",
        "    dataset = dataset.batch(batch_size).repeat(num_epochs) # split the data into batches of 32 and repeat the process by the num_epochs\n",
        "    return dataset\n",
        "  return input_function\n",
        "\n",
        "# load input functions\n",
        "train_input_func = prepare_input_function(df_train, y_train)\n",
        "eval_input_func = prepare_input_function(df_eval, y_eval, num_epochs=1, shuffle=False)\n",
        "# Creating the model\n",
        "linear_est = tf.estimator.LinearClassifier(feature_columns=feature_columns)\n",
        "clear_output() # clear console output\n"
      ],
      "execution_count": 0,
      "outputs": []
    },
    {
      "cell_type": "code",
      "metadata": {
        "id": "-VAcKqdlw0RI",
        "colab_type": "code",
        "colab": {
          "base_uri": "https://localhost:8080/",
          "height": 34
        },
        "outputId": "32bd72a3-0dea-477f-c04a-1316336fd9a2"
      },
      "source": [
        "# Train the model\n",
        "linear_est.train(train_input_func)\n",
        "result = linear_est.evaluate(eval_input_func) # get model metrics by evaluating on test dataset\n",
        "\n",
        "clear_output() # clear console output\n",
        "print(result['accuracy'])\n"
      ],
      "execution_count": 92,
      "outputs": [
        {
          "output_type": "stream",
          "text": [
            "0.77272725\n"
          ],
          "name": "stdout"
        }
      ]
    },
    {
      "cell_type": "code",
      "metadata": {
        "id": "A_Os-Ame5Aab",
        "colab_type": "code",
        "colab": {}
      },
      "source": [
        "# Model inference on the eval dataset it self\n",
        "result = list(linear_est.predict(eval_input_func))\n",
        "clear_output() # clear console output"
      ],
      "execution_count": 0,
      "outputs": []
    },
    {
      "cell_type": "code",
      "metadata": {
        "id": "qIqnqHMP6KMj",
        "colab_type": "code",
        "colab": {
          "base_uri": "https://localhost:8080/",
          "height": 221
        },
        "outputId": "7498ac6b-545d-496e-a366-a8a0159620b7"
      },
      "source": [
        "# analyzing the predection\n",
        "print(df_eval.loc[101])\n",
        "print(y_eval.loc[101])\n",
        "print(result[101]['probabilities'][1])"
      ],
      "execution_count": 104,
      "outputs": [
        {
          "output_type": "stream",
          "text": [
            "sex                        male\n",
            "age                          25\n",
            "n_siblings_spouses            1\n",
            "parch                         0\n",
            "fare                    55.4417\n",
            "class                     First\n",
            "deck                          E\n",
            "embark_town           Cherbourg\n",
            "alone                         n\n",
            "Name: 101, dtype: object\n",
            "1\n",
            "0.7685573\n"
          ],
          "name": "stdout"
        }
      ]
    },
    {
      "cell_type": "markdown",
      "metadata": {
        "id": "tNTW4zCc7VIt",
        "colab_type": "text"
      },
      "source": [
        "#Model Optimization\n",
        "Try to remove the attribute `n_siblings_spouses` and see how it does affect the accuracy\n"
      ]
    },
    {
      "cell_type": "code",
      "metadata": {
        "id": "Lac8JAiay929",
        "colab_type": "code",
        "colab": {
          "base_uri": "https://localhost:8080/",
          "height": 34
        },
        "outputId": "383ed947-2694-4c01-9565-9db689814d85"
      },
      "source": [
        "# Fine tuning the model\n",
        "\"\"\"\n",
        "Drop `n_siblings_spouses`\n",
        "\"\"\"\n",
        "CATEGORICAL_COLUMNS = ['sex','parch', 'class', 'deck', 'embark_town', 'alone']\n",
        "NUMERIC_COLUMNS = ['age', 'fare']\n",
        "df_train.pop('n_siblings_spouses')\n",
        "df_eval.pop('n_siblings_spouses')\n",
        "feature_columns = get_feature_columns()\n",
        "# Creating the model\n",
        "linear_est = tf.estimator.LinearClassifier(feature_columns=feature_columns)\n",
        "clear_output() # clear console output\n",
        "# re-evaluate the model\n",
        "linear_est.train(train_input_func)\n",
        "result2 = linear_est.evaluate(eval_input_func)\n",
        "clear_output()\n",
        "print(result2['accuracy'])\n",
        "df_train, df_eval, y_train, y_eval = load_dataset()"
      ],
      "execution_count": 105,
      "outputs": [
        {
          "output_type": "stream",
          "text": [
            "0.7537879\n"
          ],
          "name": "stdout"
        }
      ]
    }
  ]
}