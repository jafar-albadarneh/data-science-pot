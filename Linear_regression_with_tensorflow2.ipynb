{
  "nbformat": 4,
  "nbformat_minor": 0,
  "metadata": {
    "colab": {
      "name": "Linear regression with tensorflow2.ipynb",
      "provenance": [],
      "authorship_tag": "ABX9TyPyxnmGb6wauksmtiZFJdPh",
      "include_colab_link": true
    },
    "kernelspec": {
      "name": "python3",
      "display_name": "Python 3"
    }
  },
  "cells": [
    {
      "cell_type": "markdown",
      "metadata": {
        "id": "view-in-github",
        "colab_type": "text"
      },
      "source": [
        "<a href=\"https://colab.research.google.com/github/jafar-albadarneh/machine-learning/blob/master/Linear_regression_with_tensorflow2.ipynb\" target=\"_parent\"><img src=\"https://colab.research.google.com/assets/colab-badge.svg\" alt=\"Open In Colab\"/></a>"
      ]
    },
    {
      "cell_type": "code",
      "metadata": {
        "id": "MvaAWXUwFrqK",
        "colab_type": "code",
        "colab": {}
      },
      "source": [
        "!pip install -q sklearn \n",
        "!pip install -q seaborn\n",
        "%tensorflow_version 2.x"
      ],
      "execution_count": 0,
      "outputs": []
    },
    {
      "cell_type": "code",
      "metadata": {
        "id": "5E5XNN6qGBXd",
        "colab_type": "code",
        "outputId": "6ab0bfd1-e7e7-45d4-e11f-78e099f0768c",
        "colab": {
          "base_uri": "https://localhost:8080/",
          "height": 51
        }
      },
      "source": [
        "#Imports\n",
        "from __future__ import absolute_import, division, print_function, unicode_literals\n",
        "import numpy as np\n",
        "import pandas as pd\n",
        "import matplotlib.pyplot as plt\n",
        "from IPython.display import clear_output\n",
        "from six.moves import urllib #Utility for python v2/v3 compatibilty\n",
        "import seaborn as sns\n",
        "import tensorflow.compat.v2.feature_column as fc\n",
        "import tensorflow as tf"
      ],
      "execution_count": 2,
      "outputs": [
        {
          "output_type": "stream",
          "text": [
            "/usr/local/lib/python3.6/dist-packages/statsmodels/tools/_testing.py:19: FutureWarning: pandas.util.testing is deprecated. Use the functions in the public API at pandas.testing instead.\n",
            "  import pandas.util.testing as tm\n"
          ],
          "name": "stderr"
        }
      ]
    },
    {
      "cell_type": "code",
      "metadata": {
        "id": "mIsYcKNYPz68",
        "colab_type": "code",
        "outputId": "278ce816-bfde-4526-ccf2-ae3bc1df0728",
        "colab": {
          "base_uri": "https://localhost:8080/",
          "height": 187
        }
      },
      "source": [
        "#Load dataset\n",
        "def load_dataset():\n",
        "  pd.set_option('max_columns', None) #display all columns when invoking df.head()\n",
        "  pd.reset_option('max_columns') # reset df col display settings\n",
        "  df_train = pd.read_csv('https://storage.googleapis.com/tf-datasets/titanic/train.csv') # training data\n",
        "  df_eval = pd.read_csv('https://storage.googleapis.com/tf-datasets/titanic/eval.csv') # testing data\n",
        "  y_train = df_train.pop('survived')\n",
        "  y_eval = df_eval.pop('survived')\n",
        "  return (df_train, df_eval, y_train, y_eval)\n",
        "df_train, df_eval, y_train, y_eval = load_dataset()\n",
        "print(df_train.loc[0])"
      ],
      "execution_count": 3,
      "outputs": [
        {
          "output_type": "stream",
          "text": [
            "sex                          male\n",
            "age                            22\n",
            "n_siblings_spouses              1\n",
            "parch                           0\n",
            "fare                         7.25\n",
            "class                       Third\n",
            "deck                      unknown\n",
            "embark_town           Southampton\n",
            "alone                           n\n",
            "Name: 0, dtype: object\n"
          ],
          "name": "stdout"
        }
      ]
    },
    {
      "cell_type": "code",
      "metadata": {
        "id": "ZlOPxWZoj2-S",
        "colab_type": "code",
        "outputId": "ac993d34-801c-44e4-c8ad-0ae86848f665",
        "colab": {
          "base_uri": "https://localhost:8080/",
          "height": 285
        }
      },
      "source": [
        "#Dataset statistics\n",
        "sns.set()\n",
        "df_train.age.hist(bins=25)"
      ],
      "execution_count": 12,
      "outputs": [
        {
          "output_type": "execute_result",
          "data": {
            "text/plain": [
              "<matplotlib.axes._subplots.AxesSubplot at 0x7fc47ebe3cc0>"
            ]
          },
          "metadata": {
            "tags": []
          },
          "execution_count": 12
        },
        {
          "output_type": "display_data",
          "data": {
            "image/png": "[encoded data removed]",
            "text/plain": [
              "<Figure size 432x288 with 1 Axes>"
            ]
          },
          "metadata": {
            "tags": []
          }
        }
      ]
    },
    {
      "cell_type": "markdown",
      "metadata": {
        "id": "V2zAh6oM7G1y",
        "colab_type": "text"
      },
      "source": [
        "### Empirical Cumlative Distribution Function (ECDF)\n",
        "In order to better express the distribution of a specific attribute, ECDF tends to be more declarative and straight forward.\n",
        "\n",
        "In order t build an ECDF, the intended attribute data should be sorted"
      ]
    },
    {
      "cell_type": "code",
      "metadata": {
        "id": "pvtY0Q7U71Jn",
        "colab_type": "code",
        "colab": {
          "base_uri": "https://localhost:8080/",
          "height": 285
        },
        "outputId": "601d7550-34e9-4a53-ea85-83d8c09d420f"
      },
      "source": [
        "# Show ECDF for Age\n",
        "age_data = df_train.sort_values('age')['age']\n",
        "num_samples = int(age_data.count())\n",
        "percentages = np.arange(1, num_samples+1)/num_samples\n",
        "_ = plt.plot(age_data, percentages, marker='.', linestyle='none')\n",
        "_ = plt.xlabel('Age')\n",
        "_ = plt.ylabel('Percentage')\n",
        "plt.show()"
      ],
      "execution_count": 13,
      "outputs": [
        {
          "output_type": "display_data",
          "data": {
            "image/png": "[encoded data removed]",
            "text/plain": [
              "<Figure size 432x288 with 1 Axes>"
            ]
          },
          "metadata": {
            "tags": []
          }
        }
      ]
    },
    {
      "cell_type": "markdown",
      "metadata": {
        "id": "39UOzFT_DW2d",
        "colab_type": "text"
      },
      "source": [
        "### But what about outliers? Data percentiles?\n",
        "Here comes the box plot. The expresses many interesting measures for an attribute (mean, [25,50,75] percentiles, Inter quartile Range(IQR) and outliers)\n"
      ]
    },
    {
      "cell_type": "code",
      "metadata": {
        "id": "ndUYxsrjDZut",
        "colab_type": "code",
        "colab": {
          "base_uri": "https://localhost:8080/",
          "height": 285
        },
        "outputId": "3a5ccaaf-bd35-457e-c814-ac4114f1cc1a"
      },
      "source": [
        "sns.boxplot(x='age', data=df_train)\n",
        "plt.show()\n"
      ],
      "execution_count": 14,
      "outputs": [
        {
          "output_type": "display_data",
          "data": {
            "image/png": "[encoded data removed]",
            "text/plain": [
              "<Figure size 432x288 with 1 Axes>"
            ]
          },
          "metadata": {
            "tags": []
          }
        }
      ]
    },
    {
      "cell_type": "code",
      "metadata": {
        "id": "be521c7NnBKx",
        "colab_type": "code",
        "colab": {}
      },
      "source": [
        "df_train.sex.value_counts().plot(kind='barh')"
      ],
      "execution_count": 0,
      "outputs": []
    },
    {
      "cell_type": "code",
      "metadata": {
        "id": "HBVIvNucnO-s",
        "colab_type": "code",
        "colab": {}
      },
      "source": [
        "df_train[\"class\"].value_counts().plot(kind='barh')"
      ],
      "execution_count": 0,
      "outputs": []
    },
    {
      "cell_type": "code",
      "metadata": {
        "id": "bRhxATfUnzXP",
        "colab_type": "code",
        "colab": {}
      },
      "source": [
        "all = pd.concat([df_train, y_train], axis=1)\n",
        "all.groupby('class').survived.mean().plot(kind='barh').set_xlabel('survival percentage')\n",
        "all.groupby('sex').survived.mean().plot(kind='barh').set_xlabel('survival percentage')"
      ],
      "execution_count": 0,
      "outputs": []
    },
    {
      "cell_type": "code",
      "metadata": {
        "id": "zsdXpWVIqCFg",
        "colab_type": "code",
        "colab": {}
      },
      "source": [
        "# Data pre-processing\n",
        "\"\"\"\n",
        "We need to extract feature columns from thed data set \n",
        "\"\"\"\n",
        "CATEGORICAL_COLUMNS = ['sex', 'n_siblings_spouses', 'parch', 'class', 'deck', 'embark_town', 'alone']\n",
        "NUMERIC_COLUMNS = ['age', 'fare']\n",
        "def get_feature_columns():\n",
        "  feature_columns = []\n",
        "  for feature_name in CATEGORICAL_COLUMNS:\n",
        "    vocabulary = df_train[feature_name].unique() # get list of unique values from the dataset\n",
        "    feature_columns.append(tf.feature_column.categorical_column_with_vocabulary_list(feature_name, vocabulary_list=vocabulary))\n",
        "\n",
        "  for feature_name in NUMERIC_COLUMNS:\n",
        "    feature_columns.append(tf.feature_column.numeric_column(feature_name, dtype=tf.float32))\n",
        "    return feature_columns\n",
        "\n",
        "feature_columns = get_feature_columns()"
      ],
      "execution_count": 0,
      "outputs": []
    },
    {
      "cell_type": "code",
      "metadata": {
        "id": "axQ8pgR7tH_F",
        "colab_type": "code",
        "colab": {}
      },
      "source": [
        "# Training the model\n",
        "def prepare_input_function(data_df, label_df, num_epochs=10, shuffle=True, batch_size=32):\n",
        "  def input_function(): # inner function that will be returned\n",
        "    dataset = tf.data.Dataset.from_tensor_slices((dict(data_df), label_df)) # create a tf.Dataset object with data and labels\n",
        "    if shuffle:\n",
        "      dataset = dataset.shuffle(1000)\n",
        "    # apply batch-sizing\n",
        "    dataset = dataset.batch(batch_size).repeat(num_epochs) # split the data into batches of 32 and repeat the process by the num_epochs\n",
        "    return dataset\n",
        "  return input_function\n",
        "\n",
        "# load input functions\n",
        "train_input_func = prepare_input_function(df_train, y_train)\n",
        "eval_input_func = prepare_input_function(df_eval, y_eval, num_epochs=1, shuffle=False)\n"
      ],
      "execution_count": 0,
      "outputs": []
    },
    {
      "cell_type": "markdown",
      "metadata": {
        "id": "Jq4LBpxDwyOZ",
        "colab_type": "text"
      },
      "source": [
        "# Linear Regression Model"
      ]
    },
    {
      "cell_type": "code",
      "metadata": {
        "id": "-VAcKqdlw0RI",
        "colab_type": "code",
        "colab": {}
      },
      "source": [
        "\n",
        "# Creating the model\n",
        "linear_est = tf.estimator.LinearClassifier(feature_columns=feature_columns)\n",
        "clear_output()\n",
        "\n",
        "# Train Linear Model\n",
        "linear_est.train(train_input_func)\n",
        "result = linear_est.evaluate(eval_input_func) # get model metrics by evaluating on test dataset\n",
        "\n",
        "clear_output() # clear console output\n",
        "print(result);\n",
        "print(result['accuracy'])\n"
      ],
      "execution_count": 0,
      "outputs": []
    },
    {
      "cell_type": "code",
      "metadata": {
        "id": "A_Os-Ame5Aab",
        "colab_type": "code",
        "colab": {}
      },
      "source": [
        "# Model inference on the eval dataset it self\n",
        "result = list(linear_est.predict(eval_input_func))\n",
        "clear_output() # clear console output"
      ],
      "execution_count": 0,
      "outputs": []
    },
    {
      "cell_type": "code",
      "metadata": {
        "id": "qIqnqHMP6KMj",
        "colab_type": "code",
        "colab": {}
      },
      "source": [
        "# analyzing the predection\n",
        "print(df_eval.loc[101])\n",
        "print(y_eval.loc[101])\n",
        "print(result[101]['probabilities'][1])"
      ],
      "execution_count": 0,
      "outputs": []
    },
    {
      "cell_type": "markdown",
      "metadata": {
        "id": "tNTW4zCc7VIt",
        "colab_type": "text"
      },
      "source": [
        "#Deep Neural Network Model\n"
      ]
    },
    {
      "cell_type": "code",
      "metadata": {
        "id": "Lac8JAiay929",
        "colab_type": "code",
        "colab": {}
      },
      "source": [
        "# Build the model\n",
        "dnn_classifier = tf.estimator.DNNClassifier(hidden_units=[30,15], feature_columns=feature_columns, n_classes=2)\n",
        "clear_output()\n",
        "# Train the model\n",
        "dnn_classifier.train(input_fn=train_input_func, steps=5000)\n",
        "dnn_result = dnn_classifier.evaluate(input_fn=eval_input_func)\n",
        "clear_output()\n",
        "print(dnn_result['accuracy'])"
      ],
      "execution_count": 0,
      "outputs": []
    }
  ]
}